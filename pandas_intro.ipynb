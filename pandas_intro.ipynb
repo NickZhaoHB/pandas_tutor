{
 "cells": [
  {
   "cell_type": "markdown",
   "metadata": {},
   "source": [
    "# 10 Minutes to pandas"
   ]
  },
  {
   "cell_type": "markdown",
   "metadata": {},
   "source": [
    "请参阅[官方文档](http://pandas.pydata.org/pandas-docs/stable/10min.html)"
   ]
  },
  {
   "cell_type": "code",
   "execution_count": 151,
   "metadata": {
    "collapsed": true
   },
   "outputs": [],
   "source": [
    "# 设置为 inline 风格\n",
    "%matplotlib inline"
   ]
  },
  {
   "cell_type": "code",
   "execution_count": 152,
   "metadata": {
    "collapsed": true
   },
   "outputs": [],
   "source": [
    "# 包导入\n",
    "import pandas as pd\n",
    "import numpy as np\n",
    "import matplotlib.pyplot as plt"
   ]
  },
  {
   "cell_type": "markdown",
   "metadata": {},
   "source": [
    "## 创建数据集对象"
   ]
  },
  {
   "cell_type": "code",
   "execution_count": 153,
   "metadata": {
    "collapsed": false
   },
   "outputs": [
    {
     "data": {
      "text/plain": [
       "0     1\n",
       "1     3\n",
       "2     5\n",
       "3   NaN\n",
       "4     6\n",
       "5     8\n",
       "dtype: float64"
      ]
     },
     "execution_count": 153,
     "metadata": {},
     "output_type": "execute_result"
    }
   ],
   "source": [
    "# Series 对象可以理解为一维数组\n",
    "s = pd.Series([1, 3, 5, np.nan, 6, 8])\n",
    "s"
   ]
  },
  {
   "cell_type": "code",
   "execution_count": 154,
   "metadata": {
    "collapsed": false
   },
   "outputs": [
    {
     "data": {
      "text/plain": [
       "DatetimeIndex(['2016-03-01', '2016-03-02', '2016-03-03', '2016-03-04',\n",
       "               '2016-03-05', '2016-03-06'],\n",
       "              dtype='datetime64[ns]', freq='D')"
      ]
     },
     "execution_count": 154,
     "metadata": {},
     "output_type": "execute_result"
    }
   ],
   "source": [
    "# DataFrame 对象可以理解为二维数组，可以指定索引格式\n",
    "dates = pd.date_range('20160301', periods=6)\n",
    "dates"
   ]
  },
  {
   "cell_type": "code",
   "execution_count": 155,
   "metadata": {
    "collapsed": false
   },
   "outputs": [
    {
     "data": {
      "text/html": [
       "<div>\n",
       "<table border=\"1\" class=\"dataframe\">\n",
       "  <thead>\n",
       "    <tr style=\"text-align: right;\">\n",
       "      <th></th>\n",
       "      <th>A</th>\n",
       "      <th>B</th>\n",
       "      <th>C</th>\n",
       "      <th>D</th>\n",
       "    </tr>\n",
       "  </thead>\n",
       "  <tbody>\n",
       "    <tr>\n",
       "      <th>2016-03-01</th>\n",
       "      <td>1.057790</td>\n",
       "      <td>-0.190217</td>\n",
       "      <td>0.914144</td>\n",
       "      <td>-1.510789</td>\n",
       "    </tr>\n",
       "    <tr>\n",
       "      <th>2016-03-02</th>\n",
       "      <td>-0.977556</td>\n",
       "      <td>-0.388003</td>\n",
       "      <td>0.155051</td>\n",
       "      <td>0.263199</td>\n",
       "    </tr>\n",
       "    <tr>\n",
       "      <th>2016-03-03</th>\n",
       "      <td>1.198994</td>\n",
       "      <td>0.170433</td>\n",
       "      <td>-0.754744</td>\n",
       "      <td>1.160799</td>\n",
       "    </tr>\n",
       "    <tr>\n",
       "      <th>2016-03-04</th>\n",
       "      <td>-0.225740</td>\n",
       "      <td>1.081562</td>\n",
       "      <td>-0.393808</td>\n",
       "      <td>-0.214455</td>\n",
       "    </tr>\n",
       "    <tr>\n",
       "      <th>2016-03-05</th>\n",
       "      <td>0.797793</td>\n",
       "      <td>1.445573</td>\n",
       "      <td>-1.245718</td>\n",
       "      <td>-0.133621</td>\n",
       "    </tr>\n",
       "    <tr>\n",
       "      <th>2016-03-06</th>\n",
       "      <td>0.629801</td>\n",
       "      <td>-0.098653</td>\n",
       "      <td>0.329737</td>\n",
       "      <td>-0.427013</td>\n",
       "    </tr>\n",
       "  </tbody>\n",
       "</table>\n",
       "</div>"
      ],
      "text/plain": [
       "                   A         B         C         D\n",
       "2016-03-01  1.057790 -0.190217  0.914144 -1.510789\n",
       "2016-03-02 -0.977556 -0.388003  0.155051  0.263199\n",
       "2016-03-03  1.198994  0.170433 -0.754744  1.160799\n",
       "2016-03-04 -0.225740  1.081562 -0.393808 -0.214455\n",
       "2016-03-05  0.797793  1.445573 -1.245718 -0.133621\n",
       "2016-03-06  0.629801 -0.098653  0.329737 -0.427013"
      ]
     },
     "execution_count": 155,
     "metadata": {},
     "output_type": "execute_result"
    }
   ],
   "source": [
    "df = pd.DataFrame(np.random.randn(6,4), index=dates, columns=list('ABCD'))\n",
    "df"
   ]
  },
  {
   "cell_type": "code",
   "execution_count": 156,
   "metadata": {
    "collapsed": false
   },
   "outputs": [
    {
     "data": {
      "text/plain": [
       "array([[ 1.05778983, -0.19021697,  0.91414432, -1.51078934],\n",
       "       [-0.97755608, -0.38800288,  0.15505093,  0.26319861],\n",
       "       [ 1.19899411,  0.1704333 , -0.75474376,  1.16079862],\n",
       "       [-0.22573989,  1.08156156, -0.39380793, -0.21445454],\n",
       "       [ 0.79779313,  1.44557323, -1.24571772, -0.13362084],\n",
       "       [ 0.62980099, -0.09865309,  0.32973712, -0.42701299]])"
      ]
     },
     "execution_count": 156,
     "metadata": {},
     "output_type": "execute_result"
    }
   ],
   "source": [
    "df.values"
   ]
  },
  {
   "cell_type": "code",
   "execution_count": 157,
   "metadata": {
    "collapsed": false
   },
   "outputs": [
    {
     "data": {
      "text/html": [
       "<div>\n",
       "<table border=\"1\" class=\"dataframe\">\n",
       "  <thead>\n",
       "    <tr style=\"text-align: right;\">\n",
       "      <th></th>\n",
       "      <th>A</th>\n",
       "      <th>B</th>\n",
       "      <th>C</th>\n",
       "      <th>D</th>\n",
       "      <th>E</th>\n",
       "      <th>F</th>\n",
       "    </tr>\n",
       "  </thead>\n",
       "  <tbody>\n",
       "    <tr>\n",
       "      <th>0</th>\n",
       "      <td>1</td>\n",
       "      <td>2016-03-01</td>\n",
       "      <td>0</td>\n",
       "      <td>5</td>\n",
       "      <td>text</td>\n",
       "      <td>AA</td>\n",
       "    </tr>\n",
       "    <tr>\n",
       "      <th>1</th>\n",
       "      <td>1</td>\n",
       "      <td>2016-03-01</td>\n",
       "      <td>1</td>\n",
       "      <td>6</td>\n",
       "      <td>text</td>\n",
       "      <td>BB</td>\n",
       "    </tr>\n",
       "    <tr>\n",
       "      <th>2</th>\n",
       "      <td>1</td>\n",
       "      <td>2016-03-01</td>\n",
       "      <td>2</td>\n",
       "      <td>7</td>\n",
       "      <td>text</td>\n",
       "      <td>CC</td>\n",
       "    </tr>\n",
       "    <tr>\n",
       "      <th>3</th>\n",
       "      <td>1</td>\n",
       "      <td>2016-03-01</td>\n",
       "      <td>3</td>\n",
       "      <td>8</td>\n",
       "      <td>text</td>\n",
       "      <td>DD</td>\n",
       "    </tr>\n",
       "  </tbody>\n",
       "</table>\n",
       "</div>"
      ],
      "text/plain": [
       "   A          B  C  D     E   F\n",
       "0  1 2016-03-01  0  5  text  AA\n",
       "1  1 2016-03-01  1  6  text  BB\n",
       "2  1 2016-03-01  2  7  text  CC\n",
       "3  1 2016-03-01  3  8  text  DD"
      ]
     },
     "execution_count": 157,
     "metadata": {},
     "output_type": "execute_result"
    }
   ],
   "source": [
    "# 使用字典来创建：key 为 DataFrame 的列；value 为对应列下的值\n",
    "df = pd.DataFrame({\n",
    "                  'A': 1,\n",
    "                  'B': pd.Timestamp('20160301'),\n",
    "                  'C': range(4),\n",
    "                  'D': np.arange(5, 9),\n",
    "                  'E': 'text',\n",
    "                  'F': ['AA', 'BB', 'CC', 'DD']})\n",
    "df"
   ]
  },
  {
   "cell_type": "code",
   "execution_count": 158,
   "metadata": {
    "collapsed": false
   },
   "outputs": [
    {
     "data": {
      "text/plain": [
       "A             int64\n",
       "B    datetime64[ns]\n",
       "C             int64\n",
       "D             int32\n",
       "E            object\n",
       "F            object\n",
       "dtype: object"
      ]
     },
     "execution_count": 158,
     "metadata": {},
     "output_type": "execute_result"
    }
   ],
   "source": [
    "df.dtypes"
   ]
  },
  {
   "cell_type": "code",
   "execution_count": 159,
   "metadata": {
    "collapsed": false
   },
   "outputs": [
    {
     "data": {
      "text/plain": [
       "0    1\n",
       "1    1\n",
       "2    1\n",
       "3    1\n",
       "Name: A, dtype: int64"
      ]
     },
     "execution_count": 159,
     "metadata": {},
     "output_type": "execute_result"
    }
   ],
   "source": [
    "df.A"
   ]
  },
  {
   "cell_type": "code",
   "execution_count": 160,
   "metadata": {
    "collapsed": false
   },
   "outputs": [
    {
     "data": {
      "text/plain": [
       "pandas.core.series.Series"
      ]
     },
     "execution_count": 160,
     "metadata": {},
     "output_type": "execute_result"
    }
   ],
   "source": [
    "type(df.A)"
   ]
  },
  {
   "cell_type": "markdown",
   "metadata": {},
   "source": [
    "## 查看数据"
   ]
  },
  {
   "cell_type": "code",
   "execution_count": 161,
   "metadata": {
    "collapsed": false
   },
   "outputs": [
    {
     "data": {
      "text/html": [
       "<div>\n",
       "<table border=\"1\" class=\"dataframe\">\n",
       "  <thead>\n",
       "    <tr style=\"text-align: right;\">\n",
       "      <th></th>\n",
       "      <th>A</th>\n",
       "      <th>B</th>\n",
       "      <th>C</th>\n",
       "      <th>D</th>\n",
       "    </tr>\n",
       "  </thead>\n",
       "  <tbody>\n",
       "    <tr>\n",
       "      <th>2016-03-01</th>\n",
       "      <td>-1.551376</td>\n",
       "      <td>0.705075</td>\n",
       "      <td>0.069273</td>\n",
       "      <td>-0.243848</td>\n",
       "    </tr>\n",
       "    <tr>\n",
       "      <th>2016-03-02</th>\n",
       "      <td>0.776168</td>\n",
       "      <td>1.872046</td>\n",
       "      <td>-2.721737</td>\n",
       "      <td>0.075365</td>\n",
       "    </tr>\n",
       "    <tr>\n",
       "      <th>2016-03-03</th>\n",
       "      <td>-0.823614</td>\n",
       "      <td>-1.384570</td>\n",
       "      <td>0.040887</td>\n",
       "      <td>0.425011</td>\n",
       "    </tr>\n",
       "    <tr>\n",
       "      <th>2016-03-04</th>\n",
       "      <td>-2.065234</td>\n",
       "      <td>2.212431</td>\n",
       "      <td>-1.146514</td>\n",
       "      <td>-2.014971</td>\n",
       "    </tr>\n",
       "    <tr>\n",
       "      <th>2016-03-05</th>\n",
       "      <td>-0.717346</td>\n",
       "      <td>-1.066521</td>\n",
       "      <td>0.996664</td>\n",
       "      <td>1.989145</td>\n",
       "    </tr>\n",
       "    <tr>\n",
       "      <th>2016-03-06</th>\n",
       "      <td>-1.692870</td>\n",
       "      <td>-0.835300</td>\n",
       "      <td>-1.633520</td>\n",
       "      <td>-0.616365</td>\n",
       "    </tr>\n",
       "  </tbody>\n",
       "</table>\n",
       "</div>"
      ],
      "text/plain": [
       "                   A         B         C         D\n",
       "2016-03-01 -1.551376  0.705075  0.069273 -0.243848\n",
       "2016-03-02  0.776168  1.872046 -2.721737  0.075365\n",
       "2016-03-03 -0.823614 -1.384570  0.040887  0.425011\n",
       "2016-03-04 -2.065234  2.212431 -1.146514 -2.014971\n",
       "2016-03-05 -0.717346 -1.066521  0.996664  1.989145\n",
       "2016-03-06 -1.692870 -0.835300 -1.633520 -0.616365"
      ]
     },
     "execution_count": 161,
     "metadata": {},
     "output_type": "execute_result"
    }
   ],
   "source": [
    "# 创建数据集\n",
    "n_rows = 6\n",
    "dates = pd.date_range('20160301', periods=n_rows)\n",
    "df = pd.DataFrame(np.random.randn(n_rows, 4), index=dates, columns=list('ABCD'))\n",
    "df"
   ]
  },
  {
   "cell_type": "code",
   "execution_count": 162,
   "metadata": {
    "collapsed": false
   },
   "outputs": [
    {
     "data": {
      "text/plain": [
       "(6, 4)"
      ]
     },
     "execution_count": 162,
     "metadata": {},
     "output_type": "execute_result"
    }
   ],
   "source": [
    "df.shape"
   ]
  },
  {
   "cell_type": "code",
   "execution_count": 163,
   "metadata": {
    "collapsed": false
   },
   "outputs": [
    {
     "data": {
      "text/html": [
       "<div>\n",
       "<table border=\"1\" class=\"dataframe\">\n",
       "  <thead>\n",
       "    <tr style=\"text-align: right;\">\n",
       "      <th></th>\n",
       "      <th>A</th>\n",
       "      <th>B</th>\n",
       "      <th>C</th>\n",
       "      <th>D</th>\n",
       "    </tr>\n",
       "  </thead>\n",
       "  <tbody>\n",
       "    <tr>\n",
       "      <th>2016-03-01</th>\n",
       "      <td>-1.551376</td>\n",
       "      <td>0.705075</td>\n",
       "      <td>0.069273</td>\n",
       "      <td>-0.243848</td>\n",
       "    </tr>\n",
       "    <tr>\n",
       "      <th>2016-03-02</th>\n",
       "      <td>0.776168</td>\n",
       "      <td>1.872046</td>\n",
       "      <td>-2.721737</td>\n",
       "      <td>0.075365</td>\n",
       "    </tr>\n",
       "    <tr>\n",
       "      <th>2016-03-03</th>\n",
       "      <td>-0.823614</td>\n",
       "      <td>-1.384570</td>\n",
       "      <td>0.040887</td>\n",
       "      <td>0.425011</td>\n",
       "    </tr>\n",
       "    <tr>\n",
       "      <th>2016-03-04</th>\n",
       "      <td>-2.065234</td>\n",
       "      <td>2.212431</td>\n",
       "      <td>-1.146514</td>\n",
       "      <td>-2.014971</td>\n",
       "    </tr>\n",
       "    <tr>\n",
       "      <th>2016-03-05</th>\n",
       "      <td>-0.717346</td>\n",
       "      <td>-1.066521</td>\n",
       "      <td>0.996664</td>\n",
       "      <td>1.989145</td>\n",
       "    </tr>\n",
       "  </tbody>\n",
       "</table>\n",
       "</div>"
      ],
      "text/plain": [
       "                   A         B         C         D\n",
       "2016-03-01 -1.551376  0.705075  0.069273 -0.243848\n",
       "2016-03-02  0.776168  1.872046 -2.721737  0.075365\n",
       "2016-03-03 -0.823614 -1.384570  0.040887  0.425011\n",
       "2016-03-04 -2.065234  2.212431 -1.146514 -2.014971\n",
       "2016-03-05 -0.717346 -1.066521  0.996664  1.989145"
      ]
     },
     "execution_count": 163,
     "metadata": {},
     "output_type": "execute_result"
    }
   ],
   "source": [
    "df.head()"
   ]
  },
  {
   "cell_type": "code",
   "execution_count": 164,
   "metadata": {
    "collapsed": false
   },
   "outputs": [
    {
     "data": {
      "text/html": [
       "<div>\n",
       "<table border=\"1\" class=\"dataframe\">\n",
       "  <thead>\n",
       "    <tr style=\"text-align: right;\">\n",
       "      <th></th>\n",
       "      <th>A</th>\n",
       "      <th>B</th>\n",
       "      <th>C</th>\n",
       "      <th>D</th>\n",
       "    </tr>\n",
       "  </thead>\n",
       "  <tbody>\n",
       "    <tr>\n",
       "      <th>2016-03-01</th>\n",
       "      <td>-1.551376</td>\n",
       "      <td>0.705075</td>\n",
       "      <td>0.069273</td>\n",
       "      <td>-0.243848</td>\n",
       "    </tr>\n",
       "    <tr>\n",
       "      <th>2016-03-02</th>\n",
       "      <td>0.776168</td>\n",
       "      <td>1.872046</td>\n",
       "      <td>-2.721737</td>\n",
       "      <td>0.075365</td>\n",
       "    </tr>\n",
       "    <tr>\n",
       "      <th>2016-03-03</th>\n",
       "      <td>-0.823614</td>\n",
       "      <td>-1.384570</td>\n",
       "      <td>0.040887</td>\n",
       "      <td>0.425011</td>\n",
       "    </tr>\n",
       "  </tbody>\n",
       "</table>\n",
       "</div>"
      ],
      "text/plain": [
       "                   A         B         C         D\n",
       "2016-03-01 -1.551376  0.705075  0.069273 -0.243848\n",
       "2016-03-02  0.776168  1.872046 -2.721737  0.075365\n",
       "2016-03-03 -0.823614 -1.384570  0.040887  0.425011"
      ]
     },
     "execution_count": 164,
     "metadata": {},
     "output_type": "execute_result"
    }
   ],
   "source": [
    "df.head(3)"
   ]
  },
  {
   "cell_type": "code",
   "execution_count": 165,
   "metadata": {
    "collapsed": false
   },
   "outputs": [
    {
     "data": {
      "text/html": [
       "<div>\n",
       "<table border=\"1\" class=\"dataframe\">\n",
       "  <thead>\n",
       "    <tr style=\"text-align: right;\">\n",
       "      <th></th>\n",
       "      <th>A</th>\n",
       "      <th>B</th>\n",
       "      <th>C</th>\n",
       "      <th>D</th>\n",
       "    </tr>\n",
       "  </thead>\n",
       "  <tbody>\n",
       "    <tr>\n",
       "      <th>2016-03-02</th>\n",
       "      <td>0.776168</td>\n",
       "      <td>1.872046</td>\n",
       "      <td>-2.721737</td>\n",
       "      <td>0.075365</td>\n",
       "    </tr>\n",
       "    <tr>\n",
       "      <th>2016-03-03</th>\n",
       "      <td>-0.823614</td>\n",
       "      <td>-1.384570</td>\n",
       "      <td>0.040887</td>\n",
       "      <td>0.425011</td>\n",
       "    </tr>\n",
       "    <tr>\n",
       "      <th>2016-03-04</th>\n",
       "      <td>-2.065234</td>\n",
       "      <td>2.212431</td>\n",
       "      <td>-1.146514</td>\n",
       "      <td>-2.014971</td>\n",
       "    </tr>\n",
       "    <tr>\n",
       "      <th>2016-03-05</th>\n",
       "      <td>-0.717346</td>\n",
       "      <td>-1.066521</td>\n",
       "      <td>0.996664</td>\n",
       "      <td>1.989145</td>\n",
       "    </tr>\n",
       "    <tr>\n",
       "      <th>2016-03-06</th>\n",
       "      <td>-1.692870</td>\n",
       "      <td>-0.835300</td>\n",
       "      <td>-1.633520</td>\n",
       "      <td>-0.616365</td>\n",
       "    </tr>\n",
       "  </tbody>\n",
       "</table>\n",
       "</div>"
      ],
      "text/plain": [
       "                   A         B         C         D\n",
       "2016-03-02  0.776168  1.872046 -2.721737  0.075365\n",
       "2016-03-03 -0.823614 -1.384570  0.040887  0.425011\n",
       "2016-03-04 -2.065234  2.212431 -1.146514 -2.014971\n",
       "2016-03-05 -0.717346 -1.066521  0.996664  1.989145\n",
       "2016-03-06 -1.692870 -0.835300 -1.633520 -0.616365"
      ]
     },
     "execution_count": 165,
     "metadata": {},
     "output_type": "execute_result"
    }
   ],
   "source": [
    "df.tail()"
   ]
  },
  {
   "cell_type": "code",
   "execution_count": 205,
   "metadata": {
    "collapsed": false
   },
   "outputs": [
    {
     "data": {
      "text/html": [
       "<div>\n",
       "<table border=\"1\" class=\"dataframe\">\n",
       "  <thead>\n",
       "    <tr style=\"text-align: right;\">\n",
       "      <th></th>\n",
       "      <th>A</th>\n",
       "      <th>B</th>\n",
       "      <th>C</th>\n",
       "      <th>D</th>\n",
       "      <th>tag</th>\n",
       "      <th>E</th>\n",
       "    </tr>\n",
       "  </thead>\n",
       "  <tbody>\n",
       "    <tr>\n",
       "      <th>2016-03-05</th>\n",
       "      <td>14</td>\n",
       "      <td>-1.066521</td>\n",
       "      <td>0.996664</td>\n",
       "      <td>1.989145</td>\n",
       "      <td>c</td>\n",
       "      <td>4</td>\n",
       "    </tr>\n",
       "    <tr>\n",
       "      <th>2016-03-06</th>\n",
       "      <td>15</td>\n",
       "      <td>-0.835300</td>\n",
       "      <td>-1.633520</td>\n",
       "      <td>-0.616365</td>\n",
       "      <td>c</td>\n",
       "      <td>5</td>\n",
       "    </tr>\n",
       "  </tbody>\n",
       "</table>\n",
       "</div>"
      ],
      "text/plain": [
       "             A         B         C         D tag  E\n",
       "2016-03-05  14 -1.066521  0.996664  1.989145   c  4\n",
       "2016-03-06  15 -0.835300 -1.633520 -0.616365   c  5"
      ]
     },
     "execution_count": 205,
     "metadata": {},
     "output_type": "execute_result"
    }
   ],
   "source": [
    "df.tail(2)"
   ]
  },
  {
   "cell_type": "code",
   "execution_count": 167,
   "metadata": {
    "collapsed": false
   },
   "outputs": [
    {
     "data": {
      "text/plain": [
       "DatetimeIndex(['2016-03-01', '2016-03-02', '2016-03-03', '2016-03-04',\n",
       "               '2016-03-05', '2016-03-06'],\n",
       "              dtype='datetime64[ns]', freq='D')"
      ]
     },
     "execution_count": 167,
     "metadata": {},
     "output_type": "execute_result"
    }
   ],
   "source": [
    "df.index"
   ]
  },
  {
   "cell_type": "code",
   "execution_count": 168,
   "metadata": {
    "collapsed": false
   },
   "outputs": [
    {
     "data": {
      "text/plain": [
       "Index([u'A', u'B', u'C', u'D'], dtype='object')"
      ]
     },
     "execution_count": 168,
     "metadata": {},
     "output_type": "execute_result"
    }
   ],
   "source": [
    "df.columns"
   ]
  },
  {
   "cell_type": "code",
   "execution_count": 169,
   "metadata": {
    "collapsed": false
   },
   "outputs": [
    {
     "data": {
      "text/plain": [
       "array([[-1.55137581,  0.70507481,  0.06927297, -0.24384828],\n",
       "       [ 0.77616818,  1.87204593, -2.72173723,  0.07536546],\n",
       "       [-0.82361405, -1.38457044,  0.04088676,  0.42501123],\n",
       "       [-2.06523411,  2.21243073, -1.14651394, -2.01497107],\n",
       "       [-0.71734632, -1.06652057,  0.99666403,  1.98914489],\n",
       "       [-1.69287009, -0.83529966, -1.6335196 , -0.61636535]])"
      ]
     },
     "execution_count": 169,
     "metadata": {},
     "output_type": "execute_result"
    }
   ],
   "source": [
    "df.values"
   ]
  },
  {
   "cell_type": "code",
   "execution_count": 170,
   "metadata": {
    "collapsed": false
   },
   "outputs": [
    {
     "data": {
      "text/html": [
       "<div>\n",
       "<table border=\"1\" class=\"dataframe\">\n",
       "  <thead>\n",
       "    <tr style=\"text-align: right;\">\n",
       "      <th></th>\n",
       "      <th>A</th>\n",
       "      <th>B</th>\n",
       "      <th>C</th>\n",
       "      <th>D</th>\n",
       "    </tr>\n",
       "  </thead>\n",
       "  <tbody>\n",
       "    <tr>\n",
       "      <th>count</th>\n",
       "      <td>6.000000</td>\n",
       "      <td>6.000000</td>\n",
       "      <td>6.000000</td>\n",
       "      <td>6.000000</td>\n",
       "    </tr>\n",
       "    <tr>\n",
       "      <th>mean</th>\n",
       "      <td>-1.012379</td>\n",
       "      <td>0.250527</td>\n",
       "      <td>-0.732491</td>\n",
       "      <td>-0.064277</td>\n",
       "    </tr>\n",
       "    <tr>\n",
       "      <th>std</th>\n",
       "      <td>1.018201</td>\n",
       "      <td>1.566664</td>\n",
       "      <td>1.354347</td>\n",
       "      <td>1.312837</td>\n",
       "    </tr>\n",
       "    <tr>\n",
       "      <th>min</th>\n",
       "      <td>-2.065234</td>\n",
       "      <td>-1.384570</td>\n",
       "      <td>-2.721737</td>\n",
       "      <td>-2.014971</td>\n",
       "    </tr>\n",
       "    <tr>\n",
       "      <th>25%</th>\n",
       "      <td>-1.657497</td>\n",
       "      <td>-1.008715</td>\n",
       "      <td>-1.511768</td>\n",
       "      <td>-0.523236</td>\n",
       "    </tr>\n",
       "    <tr>\n",
       "      <th>50%</th>\n",
       "      <td>-1.187495</td>\n",
       "      <td>-0.065112</td>\n",
       "      <td>-0.552814</td>\n",
       "      <td>-0.084241</td>\n",
       "    </tr>\n",
       "    <tr>\n",
       "      <th>75%</th>\n",
       "      <td>-0.743913</td>\n",
       "      <td>1.580303</td>\n",
       "      <td>0.062176</td>\n",
       "      <td>0.337600</td>\n",
       "    </tr>\n",
       "    <tr>\n",
       "      <th>max</th>\n",
       "      <td>0.776168</td>\n",
       "      <td>2.212431</td>\n",
       "      <td>0.996664</td>\n",
       "      <td>1.989145</td>\n",
       "    </tr>\n",
       "  </tbody>\n",
       "</table>\n",
       "</div>"
      ],
      "text/plain": [
       "              A         B         C         D\n",
       "count  6.000000  6.000000  6.000000  6.000000\n",
       "mean  -1.012379  0.250527 -0.732491 -0.064277\n",
       "std    1.018201  1.566664  1.354347  1.312837\n",
       "min   -2.065234 -1.384570 -2.721737 -2.014971\n",
       "25%   -1.657497 -1.008715 -1.511768 -0.523236\n",
       "50%   -1.187495 -0.065112 -0.552814 -0.084241\n",
       "75%   -0.743913  1.580303  0.062176  0.337600\n",
       "max    0.776168  2.212431  0.996664  1.989145"
      ]
     },
     "execution_count": 170,
     "metadata": {},
     "output_type": "execute_result"
    }
   ],
   "source": [
    "df.describe()"
   ]
  },
  {
   "cell_type": "code",
   "execution_count": 171,
   "metadata": {
    "collapsed": false
   },
   "outputs": [
    {
     "data": {
      "text/html": [
       "<div>\n",
       "<table border=\"1\" class=\"dataframe\">\n",
       "  <thead>\n",
       "    <tr style=\"text-align: right;\">\n",
       "      <th></th>\n",
       "      <th>2016-03-01 00:00:00</th>\n",
       "      <th>2016-03-02 00:00:00</th>\n",
       "      <th>2016-03-03 00:00:00</th>\n",
       "      <th>2016-03-04 00:00:00</th>\n",
       "      <th>2016-03-05 00:00:00</th>\n",
       "      <th>2016-03-06 00:00:00</th>\n",
       "    </tr>\n",
       "  </thead>\n",
       "  <tbody>\n",
       "    <tr>\n",
       "      <th>A</th>\n",
       "      <td>-1.551376</td>\n",
       "      <td>0.776168</td>\n",
       "      <td>-0.823614</td>\n",
       "      <td>-2.065234</td>\n",
       "      <td>-0.717346</td>\n",
       "      <td>-1.692870</td>\n",
       "    </tr>\n",
       "    <tr>\n",
       "      <th>B</th>\n",
       "      <td>0.705075</td>\n",
       "      <td>1.872046</td>\n",
       "      <td>-1.384570</td>\n",
       "      <td>2.212431</td>\n",
       "      <td>-1.066521</td>\n",
       "      <td>-0.835300</td>\n",
       "    </tr>\n",
       "    <tr>\n",
       "      <th>C</th>\n",
       "      <td>0.069273</td>\n",
       "      <td>-2.721737</td>\n",
       "      <td>0.040887</td>\n",
       "      <td>-1.146514</td>\n",
       "      <td>0.996664</td>\n",
       "      <td>-1.633520</td>\n",
       "    </tr>\n",
       "    <tr>\n",
       "      <th>D</th>\n",
       "      <td>-0.243848</td>\n",
       "      <td>0.075365</td>\n",
       "      <td>0.425011</td>\n",
       "      <td>-2.014971</td>\n",
       "      <td>1.989145</td>\n",
       "      <td>-0.616365</td>\n",
       "    </tr>\n",
       "  </tbody>\n",
       "</table>\n",
       "</div>"
      ],
      "text/plain": [
       "   2016-03-01  2016-03-02  2016-03-03  2016-03-04  2016-03-05  2016-03-06\n",
       "A   -1.551376    0.776168   -0.823614   -2.065234   -0.717346   -1.692870\n",
       "B    0.705075    1.872046   -1.384570    2.212431   -1.066521   -0.835300\n",
       "C    0.069273   -2.721737    0.040887   -1.146514    0.996664   -1.633520\n",
       "D   -0.243848    0.075365    0.425011   -2.014971    1.989145   -0.616365"
      ]
     },
     "execution_count": 171,
     "metadata": {},
     "output_type": "execute_result"
    }
   ],
   "source": [
    "df.T"
   ]
  },
  {
   "cell_type": "code",
   "execution_count": 172,
   "metadata": {
    "collapsed": false
   },
   "outputs": [
    {
     "data": {
      "text/plain": [
       "(4, 6)"
      ]
     },
     "execution_count": 172,
     "metadata": {},
     "output_type": "execute_result"
    }
   ],
   "source": [
    "df.T.shape"
   ]
  },
  {
   "cell_type": "code",
   "execution_count": 173,
   "metadata": {
    "collapsed": false
   },
   "outputs": [
    {
     "data": {
      "text/html": [
       "<div>\n",
       "<table border=\"1\" class=\"dataframe\">\n",
       "  <thead>\n",
       "    <tr style=\"text-align: right;\">\n",
       "      <th></th>\n",
       "      <th>D</th>\n",
       "      <th>C</th>\n",
       "      <th>B</th>\n",
       "      <th>A</th>\n",
       "    </tr>\n",
       "  </thead>\n",
       "  <tbody>\n",
       "    <tr>\n",
       "      <th>2016-03-01</th>\n",
       "      <td>-0.243848</td>\n",
       "      <td>0.069273</td>\n",
       "      <td>0.705075</td>\n",
       "      <td>-1.551376</td>\n",
       "    </tr>\n",
       "    <tr>\n",
       "      <th>2016-03-02</th>\n",
       "      <td>0.075365</td>\n",
       "      <td>-2.721737</td>\n",
       "      <td>1.872046</td>\n",
       "      <td>0.776168</td>\n",
       "    </tr>\n",
       "    <tr>\n",
       "      <th>2016-03-03</th>\n",
       "      <td>0.425011</td>\n",
       "      <td>0.040887</td>\n",
       "      <td>-1.384570</td>\n",
       "      <td>-0.823614</td>\n",
       "    </tr>\n",
       "    <tr>\n",
       "      <th>2016-03-04</th>\n",
       "      <td>-2.014971</td>\n",
       "      <td>-1.146514</td>\n",
       "      <td>2.212431</td>\n",
       "      <td>-2.065234</td>\n",
       "    </tr>\n",
       "    <tr>\n",
       "      <th>2016-03-05</th>\n",
       "      <td>1.989145</td>\n",
       "      <td>0.996664</td>\n",
       "      <td>-1.066521</td>\n",
       "      <td>-0.717346</td>\n",
       "    </tr>\n",
       "    <tr>\n",
       "      <th>2016-03-06</th>\n",
       "      <td>-0.616365</td>\n",
       "      <td>-1.633520</td>\n",
       "      <td>-0.835300</td>\n",
       "      <td>-1.692870</td>\n",
       "    </tr>\n",
       "  </tbody>\n",
       "</table>\n",
       "</div>"
      ],
      "text/plain": [
       "                   D         C         B         A\n",
       "2016-03-01 -0.243848  0.069273  0.705075 -1.551376\n",
       "2016-03-02  0.075365 -2.721737  1.872046  0.776168\n",
       "2016-03-03  0.425011  0.040887 -1.384570 -0.823614\n",
       "2016-03-04 -2.014971 -1.146514  2.212431 -2.065234\n",
       "2016-03-05  1.989145  0.996664 -1.066521 -0.717346\n",
       "2016-03-06 -0.616365 -1.633520 -0.835300 -1.692870"
      ]
     },
     "execution_count": 173,
     "metadata": {},
     "output_type": "execute_result"
    }
   ],
   "source": [
    "df.sort_index(axis=1, ascending=False)"
   ]
  },
  {
   "cell_type": "code",
   "execution_count": 174,
   "metadata": {
    "collapsed": false
   },
   "outputs": [
    {
     "data": {
      "text/html": [
       "<div>\n",
       "<table border=\"1\" class=\"dataframe\">\n",
       "  <thead>\n",
       "    <tr style=\"text-align: right;\">\n",
       "      <th></th>\n",
       "      <th>A</th>\n",
       "      <th>B</th>\n",
       "      <th>C</th>\n",
       "      <th>D</th>\n",
       "    </tr>\n",
       "  </thead>\n",
       "  <tbody>\n",
       "    <tr>\n",
       "      <th>2016-03-02</th>\n",
       "      <td>0.776168</td>\n",
       "      <td>1.872046</td>\n",
       "      <td>-2.721737</td>\n",
       "      <td>0.075365</td>\n",
       "    </tr>\n",
       "    <tr>\n",
       "      <th>2016-03-06</th>\n",
       "      <td>-1.692870</td>\n",
       "      <td>-0.835300</td>\n",
       "      <td>-1.633520</td>\n",
       "      <td>-0.616365</td>\n",
       "    </tr>\n",
       "    <tr>\n",
       "      <th>2016-03-04</th>\n",
       "      <td>-2.065234</td>\n",
       "      <td>2.212431</td>\n",
       "      <td>-1.146514</td>\n",
       "      <td>-2.014971</td>\n",
       "    </tr>\n",
       "    <tr>\n",
       "      <th>2016-03-03</th>\n",
       "      <td>-0.823614</td>\n",
       "      <td>-1.384570</td>\n",
       "      <td>0.040887</td>\n",
       "      <td>0.425011</td>\n",
       "    </tr>\n",
       "    <tr>\n",
       "      <th>2016-03-01</th>\n",
       "      <td>-1.551376</td>\n",
       "      <td>0.705075</td>\n",
       "      <td>0.069273</td>\n",
       "      <td>-0.243848</td>\n",
       "    </tr>\n",
       "    <tr>\n",
       "      <th>2016-03-05</th>\n",
       "      <td>-0.717346</td>\n",
       "      <td>-1.066521</td>\n",
       "      <td>0.996664</td>\n",
       "      <td>1.989145</td>\n",
       "    </tr>\n",
       "  </tbody>\n",
       "</table>\n",
       "</div>"
      ],
      "text/plain": [
       "                   A         B         C         D\n",
       "2016-03-02  0.776168  1.872046 -2.721737  0.075365\n",
       "2016-03-06 -1.692870 -0.835300 -1.633520 -0.616365\n",
       "2016-03-04 -2.065234  2.212431 -1.146514 -2.014971\n",
       "2016-03-03 -0.823614 -1.384570  0.040887  0.425011\n",
       "2016-03-01 -1.551376  0.705075  0.069273 -0.243848\n",
       "2016-03-05 -0.717346 -1.066521  0.996664  1.989145"
      ]
     },
     "execution_count": 174,
     "metadata": {},
     "output_type": "execute_result"
    }
   ],
   "source": [
    "df.sort_values(by='C')"
   ]
  },
  {
   "cell_type": "markdown",
   "metadata": {},
   "source": [
    "## 数据选择"
   ]
  },
  {
   "cell_type": "code",
   "execution_count": 175,
   "metadata": {
    "collapsed": false
   },
   "outputs": [
    {
     "data": {
      "text/plain": [
       "2016-03-01   -1.551376\n",
       "2016-03-02    0.776168\n",
       "2016-03-03   -0.823614\n",
       "2016-03-04   -2.065234\n",
       "2016-03-05   -0.717346\n",
       "2016-03-06   -1.692870\n",
       "Freq: D, Name: A, dtype: float64"
      ]
     },
     "execution_count": 175,
     "metadata": {},
     "output_type": "execute_result"
    }
   ],
   "source": [
    "df['A']"
   ]
  },
  {
   "cell_type": "code",
   "execution_count": 176,
   "metadata": {
    "collapsed": false
   },
   "outputs": [
    {
     "data": {
      "text/html": [
       "<div>\n",
       "<table border=\"1\" class=\"dataframe\">\n",
       "  <thead>\n",
       "    <tr style=\"text-align: right;\">\n",
       "      <th></th>\n",
       "      <th>A</th>\n",
       "      <th>B</th>\n",
       "      <th>C</th>\n",
       "      <th>D</th>\n",
       "    </tr>\n",
       "  </thead>\n",
       "  <tbody>\n",
       "    <tr>\n",
       "      <th>2016-03-03</th>\n",
       "      <td>-0.823614</td>\n",
       "      <td>-1.384570</td>\n",
       "      <td>0.040887</td>\n",
       "      <td>0.425011</td>\n",
       "    </tr>\n",
       "    <tr>\n",
       "      <th>2016-03-04</th>\n",
       "      <td>-2.065234</td>\n",
       "      <td>2.212431</td>\n",
       "      <td>-1.146514</td>\n",
       "      <td>-2.014971</td>\n",
       "    </tr>\n",
       "  </tbody>\n",
       "</table>\n",
       "</div>"
      ],
      "text/plain": [
       "                   A         B         C         D\n",
       "2016-03-03 -0.823614 -1.384570  0.040887  0.425011\n",
       "2016-03-04 -2.065234  2.212431 -1.146514 -2.014971"
      ]
     },
     "execution_count": 176,
     "metadata": {},
     "output_type": "execute_result"
    }
   ],
   "source": [
    "df[2:4]"
   ]
  },
  {
   "cell_type": "code",
   "execution_count": 177,
   "metadata": {
    "collapsed": false
   },
   "outputs": [
    {
     "data": {
      "text/html": [
       "<div>\n",
       "<table border=\"1\" class=\"dataframe\">\n",
       "  <thead>\n",
       "    <tr style=\"text-align: right;\">\n",
       "      <th></th>\n",
       "      <th>A</th>\n",
       "      <th>B</th>\n",
       "      <th>C</th>\n",
       "      <th>D</th>\n",
       "    </tr>\n",
       "  </thead>\n",
       "  <tbody>\n",
       "    <tr>\n",
       "      <th>2016-03-02</th>\n",
       "      <td>0.776168</td>\n",
       "      <td>1.872046</td>\n",
       "      <td>-2.721737</td>\n",
       "      <td>0.075365</td>\n",
       "    </tr>\n",
       "    <tr>\n",
       "      <th>2016-03-03</th>\n",
       "      <td>-0.823614</td>\n",
       "      <td>-1.384570</td>\n",
       "      <td>0.040887</td>\n",
       "      <td>0.425011</td>\n",
       "    </tr>\n",
       "    <tr>\n",
       "      <th>2016-03-04</th>\n",
       "      <td>-2.065234</td>\n",
       "      <td>2.212431</td>\n",
       "      <td>-1.146514</td>\n",
       "      <td>-2.014971</td>\n",
       "    </tr>\n",
       "    <tr>\n",
       "      <th>2016-03-05</th>\n",
       "      <td>-0.717346</td>\n",
       "      <td>-1.066521</td>\n",
       "      <td>0.996664</td>\n",
       "      <td>1.989145</td>\n",
       "    </tr>\n",
       "  </tbody>\n",
       "</table>\n",
       "</div>"
      ],
      "text/plain": [
       "                   A         B         C         D\n",
       "2016-03-02  0.776168  1.872046 -2.721737  0.075365\n",
       "2016-03-03 -0.823614 -1.384570  0.040887  0.425011\n",
       "2016-03-04 -2.065234  2.212431 -1.146514 -2.014971\n",
       "2016-03-05 -0.717346 -1.066521  0.996664  1.989145"
      ]
     },
     "execution_count": 177,
     "metadata": {},
     "output_type": "execute_result"
    }
   ],
   "source": [
    "df['20160302':'20160305']"
   ]
  },
  {
   "cell_type": "markdown",
   "metadata": {},
   "source": [
    "### 通过标签选择"
   ]
  },
  {
   "cell_type": "code",
   "execution_count": 178,
   "metadata": {
    "collapsed": false
   },
   "outputs": [
    {
     "data": {
      "text/plain": [
       "A   -1.551376\n",
       "B    0.705075\n",
       "C    0.069273\n",
       "D   -0.243848\n",
       "Name: 2016-03-01 00:00:00, dtype: float64"
      ]
     },
     "execution_count": 178,
     "metadata": {},
     "output_type": "execute_result"
    }
   ],
   "source": [
    "df.loc['20160301']"
   ]
  },
  {
   "cell_type": "code",
   "execution_count": 179,
   "metadata": {
    "collapsed": false
   },
   "outputs": [
    {
     "data": {
      "text/plain": [
       "pandas.core.series.Series"
      ]
     },
     "execution_count": 179,
     "metadata": {},
     "output_type": "execute_result"
    }
   ],
   "source": [
    "type(df.loc['20160301'])"
   ]
  },
  {
   "cell_type": "code",
   "execution_count": 180,
   "metadata": {
    "collapsed": false
   },
   "outputs": [
    {
     "data": {
      "text/html": [
       "<div>\n",
       "<table border=\"1\" class=\"dataframe\">\n",
       "  <thead>\n",
       "    <tr style=\"text-align: right;\">\n",
       "      <th></th>\n",
       "      <th>A</th>\n",
       "      <th>B</th>\n",
       "    </tr>\n",
       "  </thead>\n",
       "  <tbody>\n",
       "    <tr>\n",
       "      <th>2016-03-01</th>\n",
       "      <td>-1.551376</td>\n",
       "      <td>0.705075</td>\n",
       "    </tr>\n",
       "    <tr>\n",
       "      <th>2016-03-02</th>\n",
       "      <td>0.776168</td>\n",
       "      <td>1.872046</td>\n",
       "    </tr>\n",
       "    <tr>\n",
       "      <th>2016-03-03</th>\n",
       "      <td>-0.823614</td>\n",
       "      <td>-1.384570</td>\n",
       "    </tr>\n",
       "    <tr>\n",
       "      <th>2016-03-04</th>\n",
       "      <td>-2.065234</td>\n",
       "      <td>2.212431</td>\n",
       "    </tr>\n",
       "    <tr>\n",
       "      <th>2016-03-05</th>\n",
       "      <td>-0.717346</td>\n",
       "      <td>-1.066521</td>\n",
       "    </tr>\n",
       "    <tr>\n",
       "      <th>2016-03-06</th>\n",
       "      <td>-1.692870</td>\n",
       "      <td>-0.835300</td>\n",
       "    </tr>\n",
       "  </tbody>\n",
       "</table>\n",
       "</div>"
      ],
      "text/plain": [
       "                   A         B\n",
       "2016-03-01 -1.551376  0.705075\n",
       "2016-03-02  0.776168  1.872046\n",
       "2016-03-03 -0.823614 -1.384570\n",
       "2016-03-04 -2.065234  2.212431\n",
       "2016-03-05 -0.717346 -1.066521\n",
       "2016-03-06 -1.692870 -0.835300"
      ]
     },
     "execution_count": 180,
     "metadata": {},
     "output_type": "execute_result"
    }
   ],
   "source": [
    "df.loc[:, ['A', 'B']]"
   ]
  },
  {
   "cell_type": "code",
   "execution_count": 181,
   "metadata": {
    "collapsed": false
   },
   "outputs": [
    {
     "data": {
      "text/html": [
       "<div>\n",
       "<table border=\"1\" class=\"dataframe\">\n",
       "  <thead>\n",
       "    <tr style=\"text-align: right;\">\n",
       "      <th></th>\n",
       "      <th>A</th>\n",
       "      <th>B</th>\n",
       "    </tr>\n",
       "  </thead>\n",
       "  <tbody>\n",
       "    <tr>\n",
       "      <th>2016-03-01</th>\n",
       "      <td>-1.551376</td>\n",
       "      <td>0.705075</td>\n",
       "    </tr>\n",
       "    <tr>\n",
       "      <th>2016-03-02</th>\n",
       "      <td>0.776168</td>\n",
       "      <td>1.872046</td>\n",
       "    </tr>\n",
       "    <tr>\n",
       "      <th>2016-03-03</th>\n",
       "      <td>-0.823614</td>\n",
       "      <td>-1.384570</td>\n",
       "    </tr>\n",
       "    <tr>\n",
       "      <th>2016-03-04</th>\n",
       "      <td>-2.065234</td>\n",
       "      <td>2.212431</td>\n",
       "    </tr>\n",
       "    <tr>\n",
       "      <th>2016-03-05</th>\n",
       "      <td>-0.717346</td>\n",
       "      <td>-1.066521</td>\n",
       "    </tr>\n",
       "  </tbody>\n",
       "</table>\n",
       "</div>"
      ],
      "text/plain": [
       "                   A         B\n",
       "2016-03-01 -1.551376  0.705075\n",
       "2016-03-02  0.776168  1.872046\n",
       "2016-03-03 -0.823614 -1.384570\n",
       "2016-03-04 -2.065234  2.212431\n",
       "2016-03-05 -0.717346 -1.066521"
      ]
     },
     "execution_count": 181,
     "metadata": {},
     "output_type": "execute_result"
    }
   ],
   "source": [
    "df.loc['20160301':'20160305', ['A', 'B']]"
   ]
  },
  {
   "cell_type": "code",
   "execution_count": 182,
   "metadata": {
    "collapsed": false
   },
   "outputs": [
    {
     "data": {
      "text/plain": [
       "-1.5513758074956525"
      ]
     },
     "execution_count": 182,
     "metadata": {},
     "output_type": "execute_result"
    }
   ],
   "source": [
    "df.loc['2016-03-01', 'A']"
   ]
  },
  {
   "cell_type": "code",
   "execution_count": 183,
   "metadata": {
    "collapsed": false
   },
   "outputs": [
    {
     "data": {
      "text/plain": [
       "-1.5513758074956525"
      ]
     },
     "execution_count": 183,
     "metadata": {},
     "output_type": "execute_result"
    }
   ],
   "source": [
    "df.at[pd.Timestamp('2016-03-01'), 'A']\n",
    "# df.at['2016-03-01', 'A'] will raise error"
   ]
  },
  {
   "cell_type": "markdown",
   "metadata": {},
   "source": [
    "### 通过位置选择"
   ]
  },
  {
   "cell_type": "code",
   "execution_count": 184,
   "metadata": {
    "collapsed": false
   },
   "outputs": [
    {
     "data": {
      "text/plain": [
       "A    0.776168\n",
       "B    1.872046\n",
       "C   -2.721737\n",
       "D    0.075365\n",
       "Name: 2016-03-02 00:00:00, dtype: float64"
      ]
     },
     "execution_count": 184,
     "metadata": {},
     "output_type": "execute_result"
    }
   ],
   "source": [
    "df.iloc[1]"
   ]
  },
  {
   "cell_type": "code",
   "execution_count": 185,
   "metadata": {
    "collapsed": false
   },
   "outputs": [
    {
     "data": {
      "text/html": [
       "<div>\n",
       "<table border=\"1\" class=\"dataframe\">\n",
       "  <thead>\n",
       "    <tr style=\"text-align: right;\">\n",
       "      <th></th>\n",
       "      <th>A</th>\n",
       "      <th>B</th>\n",
       "    </tr>\n",
       "  </thead>\n",
       "  <tbody>\n",
       "    <tr>\n",
       "      <th>2016-03-03</th>\n",
       "      <td>-0.823614</td>\n",
       "      <td>-1.384570</td>\n",
       "    </tr>\n",
       "    <tr>\n",
       "      <th>2016-03-04</th>\n",
       "      <td>-2.065234</td>\n",
       "      <td>2.212431</td>\n",
       "    </tr>\n",
       "    <tr>\n",
       "      <th>2016-03-05</th>\n",
       "      <td>-0.717346</td>\n",
       "      <td>-1.066521</td>\n",
       "    </tr>\n",
       "  </tbody>\n",
       "</table>\n",
       "</div>"
      ],
      "text/plain": [
       "                   A         B\n",
       "2016-03-03 -0.823614 -1.384570\n",
       "2016-03-04 -2.065234  2.212431\n",
       "2016-03-05 -0.717346 -1.066521"
      ]
     },
     "execution_count": 185,
     "metadata": {},
     "output_type": "execute_result"
    }
   ],
   "source": [
    "df.iloc[2:5, 0:2]"
   ]
  },
  {
   "cell_type": "code",
   "execution_count": 186,
   "metadata": {
    "collapsed": false
   },
   "outputs": [
    {
     "data": {
      "text/html": [
       "<div>\n",
       "<table border=\"1\" class=\"dataframe\">\n",
       "  <thead>\n",
       "    <tr style=\"text-align: right;\">\n",
       "      <th></th>\n",
       "      <th>A</th>\n",
       "      <th>B</th>\n",
       "      <th>C</th>\n",
       "      <th>D</th>\n",
       "    </tr>\n",
       "  </thead>\n",
       "  <tbody>\n",
       "    <tr>\n",
       "      <th>2016-03-02</th>\n",
       "      <td>0.776168</td>\n",
       "      <td>1.872046</td>\n",
       "      <td>-2.721737</td>\n",
       "      <td>0.075365</td>\n",
       "    </tr>\n",
       "    <tr>\n",
       "      <th>2016-03-03</th>\n",
       "      <td>-0.823614</td>\n",
       "      <td>-1.384570</td>\n",
       "      <td>0.040887</td>\n",
       "      <td>0.425011</td>\n",
       "    </tr>\n",
       "    <tr>\n",
       "      <th>2016-03-04</th>\n",
       "      <td>-2.065234</td>\n",
       "      <td>2.212431</td>\n",
       "      <td>-1.146514</td>\n",
       "      <td>-2.014971</td>\n",
       "    </tr>\n",
       "    <tr>\n",
       "      <th>2016-03-05</th>\n",
       "      <td>-0.717346</td>\n",
       "      <td>-1.066521</td>\n",
       "      <td>0.996664</td>\n",
       "      <td>1.989145</td>\n",
       "    </tr>\n",
       "  </tbody>\n",
       "</table>\n",
       "</div>"
      ],
      "text/plain": [
       "                   A         B         C         D\n",
       "2016-03-02  0.776168  1.872046 -2.721737  0.075365\n",
       "2016-03-03 -0.823614 -1.384570  0.040887  0.425011\n",
       "2016-03-04 -2.065234  2.212431 -1.146514 -2.014971\n",
       "2016-03-05 -0.717346 -1.066521  0.996664  1.989145"
      ]
     },
     "execution_count": 186,
     "metadata": {},
     "output_type": "execute_result"
    }
   ],
   "source": [
    "df.iloc[1:5, :]"
   ]
  },
  {
   "cell_type": "code",
   "execution_count": 187,
   "metadata": {
    "collapsed": false
   },
   "outputs": [
    {
     "data": {
      "text/plain": [
       "1.87204593456861"
      ]
     },
     "execution_count": 187,
     "metadata": {},
     "output_type": "execute_result"
    }
   ],
   "source": [
    "df.iloc[1, 1]"
   ]
  },
  {
   "cell_type": "code",
   "execution_count": 188,
   "metadata": {
    "collapsed": false
   },
   "outputs": [
    {
     "data": {
      "text/plain": [
       "1.87204593456861"
      ]
     },
     "execution_count": 188,
     "metadata": {},
     "output_type": "execute_result"
    }
   ],
   "source": [
    "df.iat[1, 1]"
   ]
  },
  {
   "cell_type": "markdown",
   "metadata": {},
   "source": [
    "### 布尔索引"
   ]
  },
  {
   "cell_type": "code",
   "execution_count": 189,
   "metadata": {
    "collapsed": false
   },
   "outputs": [
    {
     "data": {
      "text/html": [
       "<div>\n",
       "<table border=\"1\" class=\"dataframe\">\n",
       "  <thead>\n",
       "    <tr style=\"text-align: right;\">\n",
       "      <th></th>\n",
       "      <th>A</th>\n",
       "      <th>B</th>\n",
       "      <th>C</th>\n",
       "      <th>D</th>\n",
       "    </tr>\n",
       "  </thead>\n",
       "  <tbody>\n",
       "    <tr>\n",
       "      <th>2016-03-01</th>\n",
       "      <td>-1.551376</td>\n",
       "      <td>0.705075</td>\n",
       "      <td>0.069273</td>\n",
       "      <td>-0.243848</td>\n",
       "    </tr>\n",
       "    <tr>\n",
       "      <th>2016-03-03</th>\n",
       "      <td>-0.823614</td>\n",
       "      <td>-1.384570</td>\n",
       "      <td>0.040887</td>\n",
       "      <td>0.425011</td>\n",
       "    </tr>\n",
       "    <tr>\n",
       "      <th>2016-03-04</th>\n",
       "      <td>-2.065234</td>\n",
       "      <td>2.212431</td>\n",
       "      <td>-1.146514</td>\n",
       "      <td>-2.014971</td>\n",
       "    </tr>\n",
       "    <tr>\n",
       "      <th>2016-03-05</th>\n",
       "      <td>-0.717346</td>\n",
       "      <td>-1.066521</td>\n",
       "      <td>0.996664</td>\n",
       "      <td>1.989145</td>\n",
       "    </tr>\n",
       "    <tr>\n",
       "      <th>2016-03-06</th>\n",
       "      <td>-1.692870</td>\n",
       "      <td>-0.835300</td>\n",
       "      <td>-1.633520</td>\n",
       "      <td>-0.616365</td>\n",
       "    </tr>\n",
       "  </tbody>\n",
       "</table>\n",
       "</div>"
      ],
      "text/plain": [
       "                   A         B         C         D\n",
       "2016-03-01 -1.551376  0.705075  0.069273 -0.243848\n",
       "2016-03-03 -0.823614 -1.384570  0.040887  0.425011\n",
       "2016-03-04 -2.065234  2.212431 -1.146514 -2.014971\n",
       "2016-03-05 -0.717346 -1.066521  0.996664  1.989145\n",
       "2016-03-06 -1.692870 -0.835300 -1.633520 -0.616365"
      ]
     },
     "execution_count": 189,
     "metadata": {},
     "output_type": "execute_result"
    }
   ],
   "source": [
    "df[df.A < 0]"
   ]
  },
  {
   "cell_type": "code",
   "execution_count": 190,
   "metadata": {
    "collapsed": false
   },
   "outputs": [
    {
     "data": {
      "text/html": [
       "<div>\n",
       "<table border=\"1\" class=\"dataframe\">\n",
       "  <thead>\n",
       "    <tr style=\"text-align: right;\">\n",
       "      <th></th>\n",
       "      <th>A</th>\n",
       "      <th>B</th>\n",
       "      <th>C</th>\n",
       "      <th>D</th>\n",
       "    </tr>\n",
       "  </thead>\n",
       "  <tbody>\n",
       "    <tr>\n",
       "      <th>2016-03-01</th>\n",
       "      <td>NaN</td>\n",
       "      <td>0.705075</td>\n",
       "      <td>0.069273</td>\n",
       "      <td>NaN</td>\n",
       "    </tr>\n",
       "    <tr>\n",
       "      <th>2016-03-02</th>\n",
       "      <td>0.776168</td>\n",
       "      <td>1.872046</td>\n",
       "      <td>NaN</td>\n",
       "      <td>0.075365</td>\n",
       "    </tr>\n",
       "    <tr>\n",
       "      <th>2016-03-03</th>\n",
       "      <td>NaN</td>\n",
       "      <td>NaN</td>\n",
       "      <td>0.040887</td>\n",
       "      <td>0.425011</td>\n",
       "    </tr>\n",
       "    <tr>\n",
       "      <th>2016-03-04</th>\n",
       "      <td>NaN</td>\n",
       "      <td>2.212431</td>\n",
       "      <td>NaN</td>\n",
       "      <td>NaN</td>\n",
       "    </tr>\n",
       "    <tr>\n",
       "      <th>2016-03-05</th>\n",
       "      <td>NaN</td>\n",
       "      <td>NaN</td>\n",
       "      <td>0.996664</td>\n",
       "      <td>1.989145</td>\n",
       "    </tr>\n",
       "    <tr>\n",
       "      <th>2016-03-06</th>\n",
       "      <td>NaN</td>\n",
       "      <td>NaN</td>\n",
       "      <td>NaN</td>\n",
       "      <td>NaN</td>\n",
       "    </tr>\n",
       "  </tbody>\n",
       "</table>\n",
       "</div>"
      ],
      "text/plain": [
       "                   A         B         C         D\n",
       "2016-03-01       NaN  0.705075  0.069273       NaN\n",
       "2016-03-02  0.776168  1.872046       NaN  0.075365\n",
       "2016-03-03       NaN       NaN  0.040887  0.425011\n",
       "2016-03-04       NaN  2.212431       NaN       NaN\n",
       "2016-03-05       NaN       NaN  0.996664  1.989145\n",
       "2016-03-06       NaN       NaN       NaN       NaN"
      ]
     },
     "execution_count": 190,
     "metadata": {},
     "output_type": "execute_result"
    }
   ],
   "source": [
    "df[df > 0]"
   ]
  },
  {
   "cell_type": "code",
   "execution_count": 191,
   "metadata": {
    "collapsed": false
   },
   "outputs": [],
   "source": [
    "df['tag'] = ['a'] * 2 + ['b'] * 2 + ['c'] * 2"
   ]
  },
  {
   "cell_type": "code",
   "execution_count": 192,
   "metadata": {
    "collapsed": false
   },
   "outputs": [
    {
     "data": {
      "text/html": [
       "<div>\n",
       "<table border=\"1\" class=\"dataframe\">\n",
       "  <thead>\n",
       "    <tr style=\"text-align: right;\">\n",
       "      <th></th>\n",
       "      <th>A</th>\n",
       "      <th>B</th>\n",
       "      <th>C</th>\n",
       "      <th>D</th>\n",
       "      <th>tag</th>\n",
       "    </tr>\n",
       "  </thead>\n",
       "  <tbody>\n",
       "    <tr>\n",
       "      <th>2016-03-01</th>\n",
       "      <td>-1.551376</td>\n",
       "      <td>0.705075</td>\n",
       "      <td>0.069273</td>\n",
       "      <td>-0.243848</td>\n",
       "      <td>a</td>\n",
       "    </tr>\n",
       "    <tr>\n",
       "      <th>2016-03-02</th>\n",
       "      <td>0.776168</td>\n",
       "      <td>1.872046</td>\n",
       "      <td>-2.721737</td>\n",
       "      <td>0.075365</td>\n",
       "      <td>a</td>\n",
       "    </tr>\n",
       "    <tr>\n",
       "      <th>2016-03-03</th>\n",
       "      <td>-0.823614</td>\n",
       "      <td>-1.384570</td>\n",
       "      <td>0.040887</td>\n",
       "      <td>0.425011</td>\n",
       "      <td>b</td>\n",
       "    </tr>\n",
       "    <tr>\n",
       "      <th>2016-03-04</th>\n",
       "      <td>-2.065234</td>\n",
       "      <td>2.212431</td>\n",
       "      <td>-1.146514</td>\n",
       "      <td>-2.014971</td>\n",
       "      <td>b</td>\n",
       "    </tr>\n",
       "    <tr>\n",
       "      <th>2016-03-05</th>\n",
       "      <td>-0.717346</td>\n",
       "      <td>-1.066521</td>\n",
       "      <td>0.996664</td>\n",
       "      <td>1.989145</td>\n",
       "      <td>c</td>\n",
       "    </tr>\n",
       "    <tr>\n",
       "      <th>2016-03-06</th>\n",
       "      <td>-1.692870</td>\n",
       "      <td>-0.835300</td>\n",
       "      <td>-1.633520</td>\n",
       "      <td>-0.616365</td>\n",
       "      <td>c</td>\n",
       "    </tr>\n",
       "  </tbody>\n",
       "</table>\n",
       "</div>"
      ],
      "text/plain": [
       "                   A         B         C         D tag\n",
       "2016-03-01 -1.551376  0.705075  0.069273 -0.243848   a\n",
       "2016-03-02  0.776168  1.872046 -2.721737  0.075365   a\n",
       "2016-03-03 -0.823614 -1.384570  0.040887  0.425011   b\n",
       "2016-03-04 -2.065234  2.212431 -1.146514 -2.014971   b\n",
       "2016-03-05 -0.717346 -1.066521  0.996664  1.989145   c\n",
       "2016-03-06 -1.692870 -0.835300 -1.633520 -0.616365   c"
      ]
     },
     "execution_count": 192,
     "metadata": {},
     "output_type": "execute_result"
    }
   ],
   "source": [
    "df"
   ]
  },
  {
   "cell_type": "code",
   "execution_count": 193,
   "metadata": {
    "collapsed": false
   },
   "outputs": [
    {
     "data": {
      "text/html": [
       "<div>\n",
       "<table border=\"1\" class=\"dataframe\">\n",
       "  <thead>\n",
       "    <tr style=\"text-align: right;\">\n",
       "      <th></th>\n",
       "      <th>A</th>\n",
       "      <th>B</th>\n",
       "      <th>C</th>\n",
       "      <th>D</th>\n",
       "      <th>tag</th>\n",
       "    </tr>\n",
       "  </thead>\n",
       "  <tbody>\n",
       "    <tr>\n",
       "      <th>2016-03-01</th>\n",
       "      <td>-1.551376</td>\n",
       "      <td>0.705075</td>\n",
       "      <td>0.069273</td>\n",
       "      <td>-0.243848</td>\n",
       "      <td>a</td>\n",
       "    </tr>\n",
       "    <tr>\n",
       "      <th>2016-03-02</th>\n",
       "      <td>0.776168</td>\n",
       "      <td>1.872046</td>\n",
       "      <td>-2.721737</td>\n",
       "      <td>0.075365</td>\n",
       "      <td>a</td>\n",
       "    </tr>\n",
       "    <tr>\n",
       "      <th>2016-03-05</th>\n",
       "      <td>-0.717346</td>\n",
       "      <td>-1.066521</td>\n",
       "      <td>0.996664</td>\n",
       "      <td>1.989145</td>\n",
       "      <td>c</td>\n",
       "    </tr>\n",
       "    <tr>\n",
       "      <th>2016-03-06</th>\n",
       "      <td>-1.692870</td>\n",
       "      <td>-0.835300</td>\n",
       "      <td>-1.633520</td>\n",
       "      <td>-0.616365</td>\n",
       "      <td>c</td>\n",
       "    </tr>\n",
       "  </tbody>\n",
       "</table>\n",
       "</div>"
      ],
      "text/plain": [
       "                   A         B         C         D tag\n",
       "2016-03-01 -1.551376  0.705075  0.069273 -0.243848   a\n",
       "2016-03-02  0.776168  1.872046 -2.721737  0.075365   a\n",
       "2016-03-05 -0.717346 -1.066521  0.996664  1.989145   c\n",
       "2016-03-06 -1.692870 -0.835300 -1.633520 -0.616365   c"
      ]
     },
     "execution_count": 193,
     "metadata": {},
     "output_type": "execute_result"
    }
   ],
   "source": [
    "df[df.tag.isin(['a', 'c'])]"
   ]
  },
  {
   "cell_type": "markdown",
   "metadata": {},
   "source": [
    "### 修改数据"
   ]
  },
  {
   "cell_type": "code",
   "execution_count": 194,
   "metadata": {
    "collapsed": false
   },
   "outputs": [
    {
     "data": {
      "text/html": [
       "<div>\n",
       "<table border=\"1\" class=\"dataframe\">\n",
       "  <thead>\n",
       "    <tr style=\"text-align: right;\">\n",
       "      <th></th>\n",
       "      <th>A</th>\n",
       "      <th>B</th>\n",
       "      <th>C</th>\n",
       "      <th>D</th>\n",
       "      <th>tag</th>\n",
       "    </tr>\n",
       "  </thead>\n",
       "  <tbody>\n",
       "    <tr>\n",
       "      <th>2016-03-01</th>\n",
       "      <td>-1.551376</td>\n",
       "      <td>0.705075</td>\n",
       "      <td>0.069273</td>\n",
       "      <td>-0.243848</td>\n",
       "      <td>a</td>\n",
       "    </tr>\n",
       "    <tr>\n",
       "      <th>2016-03-02</th>\n",
       "      <td>0.776168</td>\n",
       "      <td>1.872046</td>\n",
       "      <td>-2.721737</td>\n",
       "      <td>0.075365</td>\n",
       "      <td>a</td>\n",
       "    </tr>\n",
       "    <tr>\n",
       "      <th>2016-03-03</th>\n",
       "      <td>-0.823614</td>\n",
       "      <td>-1.384570</td>\n",
       "      <td>0.040887</td>\n",
       "      <td>0.425011</td>\n",
       "      <td>b</td>\n",
       "    </tr>\n",
       "    <tr>\n",
       "      <th>2016-03-04</th>\n",
       "      <td>-2.065234</td>\n",
       "      <td>2.212431</td>\n",
       "      <td>-1.146514</td>\n",
       "      <td>-2.014971</td>\n",
       "      <td>b</td>\n",
       "    </tr>\n",
       "    <tr>\n",
       "      <th>2016-03-05</th>\n",
       "      <td>-0.717346</td>\n",
       "      <td>-1.066521</td>\n",
       "      <td>0.996664</td>\n",
       "      <td>1.989145</td>\n",
       "      <td>c</td>\n",
       "    </tr>\n",
       "    <tr>\n",
       "      <th>2016-03-06</th>\n",
       "      <td>-1.692870</td>\n",
       "      <td>-0.835300</td>\n",
       "      <td>-1.633520</td>\n",
       "      <td>-0.616365</td>\n",
       "      <td>c</td>\n",
       "    </tr>\n",
       "  </tbody>\n",
       "</table>\n",
       "</div>"
      ],
      "text/plain": [
       "                   A         B         C         D tag\n",
       "2016-03-01 -1.551376  0.705075  0.069273 -0.243848   a\n",
       "2016-03-02  0.776168  1.872046 -2.721737  0.075365   a\n",
       "2016-03-03 -0.823614 -1.384570  0.040887  0.425011   b\n",
       "2016-03-04 -2.065234  2.212431 -1.146514 -2.014971   b\n",
       "2016-03-05 -0.717346 -1.066521  0.996664  1.989145   c\n",
       "2016-03-06 -1.692870 -0.835300 -1.633520 -0.616365   c"
      ]
     },
     "execution_count": 194,
     "metadata": {},
     "output_type": "execute_result"
    }
   ],
   "source": [
    "df"
   ]
  },
  {
   "cell_type": "code",
   "execution_count": 195,
   "metadata": {
    "collapsed": false
   },
   "outputs": [
    {
     "data": {
      "text/plain": [
       "2016-03-01    0\n",
       "2016-03-02    1\n",
       "2016-03-03    2\n",
       "2016-03-04    3\n",
       "2016-03-05    4\n",
       "2016-03-06    5\n",
       "Freq: D, dtype: int32"
      ]
     },
     "execution_count": 195,
     "metadata": {},
     "output_type": "execute_result"
    }
   ],
   "source": [
    "s = pd.Series(np.arange(6), index=pd.date_range('20160301', periods=6))\n",
    "s"
   ]
  },
  {
   "cell_type": "code",
   "execution_count": 196,
   "metadata": {
    "collapsed": true
   },
   "outputs": [],
   "source": [
    "df['E'] = s"
   ]
  },
  {
   "cell_type": "code",
   "execution_count": 197,
   "metadata": {
    "collapsed": false
   },
   "outputs": [
    {
     "data": {
      "text/html": [
       "<div>\n",
       "<table border=\"1\" class=\"dataframe\">\n",
       "  <thead>\n",
       "    <tr style=\"text-align: right;\">\n",
       "      <th></th>\n",
       "      <th>A</th>\n",
       "      <th>B</th>\n",
       "      <th>C</th>\n",
       "      <th>D</th>\n",
       "      <th>tag</th>\n",
       "      <th>E</th>\n",
       "    </tr>\n",
       "  </thead>\n",
       "  <tbody>\n",
       "    <tr>\n",
       "      <th>2016-03-01</th>\n",
       "      <td>-1.551376</td>\n",
       "      <td>0.705075</td>\n",
       "      <td>0.069273</td>\n",
       "      <td>-0.243848</td>\n",
       "      <td>a</td>\n",
       "      <td>0</td>\n",
       "    </tr>\n",
       "    <tr>\n",
       "      <th>2016-03-02</th>\n",
       "      <td>0.776168</td>\n",
       "      <td>1.872046</td>\n",
       "      <td>-2.721737</td>\n",
       "      <td>0.075365</td>\n",
       "      <td>a</td>\n",
       "      <td>1</td>\n",
       "    </tr>\n",
       "    <tr>\n",
       "      <th>2016-03-03</th>\n",
       "      <td>-0.823614</td>\n",
       "      <td>-1.384570</td>\n",
       "      <td>0.040887</td>\n",
       "      <td>0.425011</td>\n",
       "      <td>b</td>\n",
       "      <td>2</td>\n",
       "    </tr>\n",
       "    <tr>\n",
       "      <th>2016-03-04</th>\n",
       "      <td>-2.065234</td>\n",
       "      <td>2.212431</td>\n",
       "      <td>-1.146514</td>\n",
       "      <td>-2.014971</td>\n",
       "      <td>b</td>\n",
       "      <td>3</td>\n",
       "    </tr>\n",
       "    <tr>\n",
       "      <th>2016-03-05</th>\n",
       "      <td>-0.717346</td>\n",
       "      <td>-1.066521</td>\n",
       "      <td>0.996664</td>\n",
       "      <td>1.989145</td>\n",
       "      <td>c</td>\n",
       "      <td>4</td>\n",
       "    </tr>\n",
       "    <tr>\n",
       "      <th>2016-03-06</th>\n",
       "      <td>-1.692870</td>\n",
       "      <td>-0.835300</td>\n",
       "      <td>-1.633520</td>\n",
       "      <td>-0.616365</td>\n",
       "      <td>c</td>\n",
       "      <td>5</td>\n",
       "    </tr>\n",
       "  </tbody>\n",
       "</table>\n",
       "</div>"
      ],
      "text/plain": [
       "                   A         B         C         D tag  E\n",
       "2016-03-01 -1.551376  0.705075  0.069273 -0.243848   a  0\n",
       "2016-03-02  0.776168  1.872046 -2.721737  0.075365   a  1\n",
       "2016-03-03 -0.823614 -1.384570  0.040887  0.425011   b  2\n",
       "2016-03-04 -2.065234  2.212431 -1.146514 -2.014971   b  3\n",
       "2016-03-05 -0.717346 -1.066521  0.996664  1.989145   c  4\n",
       "2016-03-06 -1.692870 -0.835300 -1.633520 -0.616365   c  5"
      ]
     },
     "execution_count": 197,
     "metadata": {},
     "output_type": "execute_result"
    }
   ],
   "source": [
    "df"
   ]
  },
  {
   "cell_type": "code",
   "execution_count": 198,
   "metadata": {
    "collapsed": true
   },
   "outputs": [],
   "source": [
    "df.loc['20160301', 'A'] = 0.2\n",
    "# df.['20160301', 'A'] = 0.2 will not have effect"
   ]
  },
  {
   "cell_type": "code",
   "execution_count": 199,
   "metadata": {
    "collapsed": false
   },
   "outputs": [
    {
     "data": {
      "text/html": [
       "<div>\n",
       "<table border=\"1\" class=\"dataframe\">\n",
       "  <thead>\n",
       "    <tr style=\"text-align: right;\">\n",
       "      <th></th>\n",
       "      <th>A</th>\n",
       "      <th>B</th>\n",
       "      <th>C</th>\n",
       "      <th>D</th>\n",
       "      <th>tag</th>\n",
       "      <th>E</th>\n",
       "    </tr>\n",
       "  </thead>\n",
       "  <tbody>\n",
       "    <tr>\n",
       "      <th>2016-03-01</th>\n",
       "      <td>0.200000</td>\n",
       "      <td>0.705075</td>\n",
       "      <td>0.069273</td>\n",
       "      <td>-0.243848</td>\n",
       "      <td>a</td>\n",
       "      <td>0</td>\n",
       "    </tr>\n",
       "    <tr>\n",
       "      <th>2016-03-02</th>\n",
       "      <td>0.776168</td>\n",
       "      <td>1.872046</td>\n",
       "      <td>-2.721737</td>\n",
       "      <td>0.075365</td>\n",
       "      <td>a</td>\n",
       "      <td>1</td>\n",
       "    </tr>\n",
       "    <tr>\n",
       "      <th>2016-03-03</th>\n",
       "      <td>-0.823614</td>\n",
       "      <td>-1.384570</td>\n",
       "      <td>0.040887</td>\n",
       "      <td>0.425011</td>\n",
       "      <td>b</td>\n",
       "      <td>2</td>\n",
       "    </tr>\n",
       "    <tr>\n",
       "      <th>2016-03-04</th>\n",
       "      <td>-2.065234</td>\n",
       "      <td>2.212431</td>\n",
       "      <td>-1.146514</td>\n",
       "      <td>-2.014971</td>\n",
       "      <td>b</td>\n",
       "      <td>3</td>\n",
       "    </tr>\n",
       "    <tr>\n",
       "      <th>2016-03-05</th>\n",
       "      <td>-0.717346</td>\n",
       "      <td>-1.066521</td>\n",
       "      <td>0.996664</td>\n",
       "      <td>1.989145</td>\n",
       "      <td>c</td>\n",
       "      <td>4</td>\n",
       "    </tr>\n",
       "    <tr>\n",
       "      <th>2016-03-06</th>\n",
       "      <td>-1.692870</td>\n",
       "      <td>-0.835300</td>\n",
       "      <td>-1.633520</td>\n",
       "      <td>-0.616365</td>\n",
       "      <td>c</td>\n",
       "      <td>5</td>\n",
       "    </tr>\n",
       "  </tbody>\n",
       "</table>\n",
       "</div>"
      ],
      "text/plain": [
       "                   A         B         C         D tag  E\n",
       "2016-03-01  0.200000  0.705075  0.069273 -0.243848   a  0\n",
       "2016-03-02  0.776168  1.872046 -2.721737  0.075365   a  1\n",
       "2016-03-03 -0.823614 -1.384570  0.040887  0.425011   b  2\n",
       "2016-03-04 -2.065234  2.212431 -1.146514 -2.014971   b  3\n",
       "2016-03-05 -0.717346 -1.066521  0.996664  1.989145   c  4\n",
       "2016-03-06 -1.692870 -0.835300 -1.633520 -0.616365   c  5"
      ]
     },
     "execution_count": 199,
     "metadata": {},
     "output_type": "execute_result"
    }
   ],
   "source": [
    "df"
   ]
  },
  {
   "cell_type": "code",
   "execution_count": 200,
   "metadata": {
    "collapsed": true
   },
   "outputs": [],
   "source": [
    "df.at[pd.Timestamp('20160301'), 'A'] = 0.4"
   ]
  },
  {
   "cell_type": "code",
   "execution_count": 201,
   "metadata": {
    "collapsed": false
   },
   "outputs": [
    {
     "data": {
      "text/html": [
       "<div>\n",
       "<table border=\"1\" class=\"dataframe\">\n",
       "  <thead>\n",
       "    <tr style=\"text-align: right;\">\n",
       "      <th></th>\n",
       "      <th>A</th>\n",
       "      <th>B</th>\n",
       "      <th>C</th>\n",
       "      <th>D</th>\n",
       "      <th>tag</th>\n",
       "      <th>E</th>\n",
       "    </tr>\n",
       "  </thead>\n",
       "  <tbody>\n",
       "    <tr>\n",
       "      <th>2016-03-01</th>\n",
       "      <td>0.400000</td>\n",
       "      <td>0.705075</td>\n",
       "      <td>0.069273</td>\n",
       "      <td>-0.243848</td>\n",
       "      <td>a</td>\n",
       "      <td>0</td>\n",
       "    </tr>\n",
       "    <tr>\n",
       "      <th>2016-03-02</th>\n",
       "      <td>0.776168</td>\n",
       "      <td>1.872046</td>\n",
       "      <td>-2.721737</td>\n",
       "      <td>0.075365</td>\n",
       "      <td>a</td>\n",
       "      <td>1</td>\n",
       "    </tr>\n",
       "    <tr>\n",
       "      <th>2016-03-03</th>\n",
       "      <td>-0.823614</td>\n",
       "      <td>-1.384570</td>\n",
       "      <td>0.040887</td>\n",
       "      <td>0.425011</td>\n",
       "      <td>b</td>\n",
       "      <td>2</td>\n",
       "    </tr>\n",
       "    <tr>\n",
       "      <th>2016-03-04</th>\n",
       "      <td>-2.065234</td>\n",
       "      <td>2.212431</td>\n",
       "      <td>-1.146514</td>\n",
       "      <td>-2.014971</td>\n",
       "      <td>b</td>\n",
       "      <td>3</td>\n",
       "    </tr>\n",
       "    <tr>\n",
       "      <th>2016-03-05</th>\n",
       "      <td>-0.717346</td>\n",
       "      <td>-1.066521</td>\n",
       "      <td>0.996664</td>\n",
       "      <td>1.989145</td>\n",
       "      <td>c</td>\n",
       "      <td>4</td>\n",
       "    </tr>\n",
       "    <tr>\n",
       "      <th>2016-03-06</th>\n",
       "      <td>-1.692870</td>\n",
       "      <td>-0.835300</td>\n",
       "      <td>-1.633520</td>\n",
       "      <td>-0.616365</td>\n",
       "      <td>c</td>\n",
       "      <td>5</td>\n",
       "    </tr>\n",
       "  </tbody>\n",
       "</table>\n",
       "</div>"
      ],
      "text/plain": [
       "                   A         B         C         D tag  E\n",
       "2016-03-01  0.400000  0.705075  0.069273 -0.243848   a  0\n",
       "2016-03-02  0.776168  1.872046 -2.721737  0.075365   a  1\n",
       "2016-03-03 -0.823614 -1.384570  0.040887  0.425011   b  2\n",
       "2016-03-04 -2.065234  2.212431 -1.146514 -2.014971   b  3\n",
       "2016-03-05 -0.717346 -1.066521  0.996664  1.989145   c  4\n",
       "2016-03-06 -1.692870 -0.835300 -1.633520 -0.616365   c  5"
      ]
     },
     "execution_count": 201,
     "metadata": {},
     "output_type": "execute_result"
    }
   ],
   "source": [
    "df"
   ]
  },
  {
   "cell_type": "code",
   "execution_count": 202,
   "metadata": {
    "collapsed": false
   },
   "outputs": [
    {
     "data": {
      "text/html": [
       "<div>\n",
       "<table border=\"1\" class=\"dataframe\">\n",
       "  <thead>\n",
       "    <tr style=\"text-align: right;\">\n",
       "      <th></th>\n",
       "      <th>A</th>\n",
       "      <th>B</th>\n",
       "      <th>C</th>\n",
       "      <th>D</th>\n",
       "      <th>tag</th>\n",
       "      <th>E</th>\n",
       "    </tr>\n",
       "  </thead>\n",
       "  <tbody>\n",
       "    <tr>\n",
       "      <th>2016-03-01</th>\n",
       "      <td>0.600000</td>\n",
       "      <td>0.705075</td>\n",
       "      <td>0.069273</td>\n",
       "      <td>-0.243848</td>\n",
       "      <td>a</td>\n",
       "      <td>0</td>\n",
       "    </tr>\n",
       "    <tr>\n",
       "      <th>2016-03-02</th>\n",
       "      <td>0.776168</td>\n",
       "      <td>1.872046</td>\n",
       "      <td>-2.721737</td>\n",
       "      <td>0.075365</td>\n",
       "      <td>a</td>\n",
       "      <td>1</td>\n",
       "    </tr>\n",
       "    <tr>\n",
       "      <th>2016-03-03</th>\n",
       "      <td>-0.823614</td>\n",
       "      <td>-1.384570</td>\n",
       "      <td>0.040887</td>\n",
       "      <td>0.425011</td>\n",
       "      <td>b</td>\n",
       "      <td>2</td>\n",
       "    </tr>\n",
       "    <tr>\n",
       "      <th>2016-03-04</th>\n",
       "      <td>-2.065234</td>\n",
       "      <td>2.212431</td>\n",
       "      <td>-1.146514</td>\n",
       "      <td>-2.014971</td>\n",
       "      <td>b</td>\n",
       "      <td>3</td>\n",
       "    </tr>\n",
       "    <tr>\n",
       "      <th>2016-03-05</th>\n",
       "      <td>-0.717346</td>\n",
       "      <td>-1.066521</td>\n",
       "      <td>0.996664</td>\n",
       "      <td>1.989145</td>\n",
       "      <td>c</td>\n",
       "      <td>4</td>\n",
       "    </tr>\n",
       "    <tr>\n",
       "      <th>2016-03-06</th>\n",
       "      <td>-1.692870</td>\n",
       "      <td>-0.835300</td>\n",
       "      <td>-1.633520</td>\n",
       "      <td>-0.616365</td>\n",
       "      <td>c</td>\n",
       "      <td>5</td>\n",
       "    </tr>\n",
       "  </tbody>\n",
       "</table>\n",
       "</div>"
      ],
      "text/plain": [
       "                   A         B         C         D tag  E\n",
       "2016-03-01  0.600000  0.705075  0.069273 -0.243848   a  0\n",
       "2016-03-02  0.776168  1.872046 -2.721737  0.075365   a  1\n",
       "2016-03-03 -0.823614 -1.384570  0.040887  0.425011   b  2\n",
       "2016-03-04 -2.065234  2.212431 -1.146514 -2.014971   b  3\n",
       "2016-03-05 -0.717346 -1.066521  0.996664  1.989145   c  4\n",
       "2016-03-06 -1.692870 -0.835300 -1.633520 -0.616365   c  5"
      ]
     },
     "execution_count": 202,
     "metadata": {},
     "output_type": "execute_result"
    }
   ],
   "source": [
    "df.iat[0, 0] = 0.6\n",
    "df"
   ]
  },
  {
   "cell_type": "code",
   "execution_count": 203,
   "metadata": {
    "collapsed": false
   },
   "outputs": [
    {
     "data": {
      "text/html": [
       "<div>\n",
       "<table border=\"1\" class=\"dataframe\">\n",
       "  <thead>\n",
       "    <tr style=\"text-align: right;\">\n",
       "      <th></th>\n",
       "      <th>A</th>\n",
       "      <th>B</th>\n",
       "      <th>C</th>\n",
       "      <th>D</th>\n",
       "      <th>tag</th>\n",
       "      <th>E</th>\n",
       "    </tr>\n",
       "  </thead>\n",
       "  <tbody>\n",
       "    <tr>\n",
       "      <th>2016-03-01</th>\n",
       "      <td>10</td>\n",
       "      <td>0.705075</td>\n",
       "      <td>0.069273</td>\n",
       "      <td>-0.243848</td>\n",
       "      <td>a</td>\n",
       "      <td>0</td>\n",
       "    </tr>\n",
       "    <tr>\n",
       "      <th>2016-03-02</th>\n",
       "      <td>11</td>\n",
       "      <td>1.872046</td>\n",
       "      <td>-2.721737</td>\n",
       "      <td>0.075365</td>\n",
       "      <td>a</td>\n",
       "      <td>1</td>\n",
       "    </tr>\n",
       "    <tr>\n",
       "      <th>2016-03-03</th>\n",
       "      <td>12</td>\n",
       "      <td>-1.384570</td>\n",
       "      <td>0.040887</td>\n",
       "      <td>0.425011</td>\n",
       "      <td>b</td>\n",
       "      <td>2</td>\n",
       "    </tr>\n",
       "    <tr>\n",
       "      <th>2016-03-04</th>\n",
       "      <td>13</td>\n",
       "      <td>2.212431</td>\n",
       "      <td>-1.146514</td>\n",
       "      <td>-2.014971</td>\n",
       "      <td>b</td>\n",
       "      <td>3</td>\n",
       "    </tr>\n",
       "    <tr>\n",
       "      <th>2016-03-05</th>\n",
       "      <td>14</td>\n",
       "      <td>-1.066521</td>\n",
       "      <td>0.996664</td>\n",
       "      <td>1.989145</td>\n",
       "      <td>c</td>\n",
       "      <td>4</td>\n",
       "    </tr>\n",
       "    <tr>\n",
       "      <th>2016-03-06</th>\n",
       "      <td>15</td>\n",
       "      <td>-0.835300</td>\n",
       "      <td>-1.633520</td>\n",
       "      <td>-0.616365</td>\n",
       "      <td>c</td>\n",
       "      <td>5</td>\n",
       "    </tr>\n",
       "  </tbody>\n",
       "</table>\n",
       "</div>"
      ],
      "text/plain": [
       "             A         B         C         D tag  E\n",
       "2016-03-01  10  0.705075  0.069273 -0.243848   a  0\n",
       "2016-03-02  11  1.872046 -2.721737  0.075365   a  1\n",
       "2016-03-03  12 -1.384570  0.040887  0.425011   b  2\n",
       "2016-03-04  13  2.212431 -1.146514 -2.014971   b  3\n",
       "2016-03-05  14 -1.066521  0.996664  1.989145   c  4\n",
       "2016-03-06  15 -0.835300 -1.633520 -0.616365   c  5"
      ]
     },
     "execution_count": 203,
     "metadata": {},
     "output_type": "execute_result"
    }
   ],
   "source": [
    "df.loc[:, 'A'] = np.arange(10, 16)\n",
    "df"
   ]
  },
  {
   "cell_type": "code",
   "execution_count": 204,
   "metadata": {
    "collapsed": false
   },
   "outputs": [
    {
     "data": {
      "text/html": [
       "<div>\n",
       "<table border=\"1\" class=\"dataframe\">\n",
       "  <thead>\n",
       "    <tr style=\"text-align: right;\">\n",
       "      <th></th>\n",
       "      <th>B</th>\n",
       "      <th>C</th>\n",
       "    </tr>\n",
       "  </thead>\n",
       "  <tbody>\n",
       "    <tr>\n",
       "      <th>2016-03-01</th>\n",
       "      <td>-0.705075</td>\n",
       "      <td>-0.069273</td>\n",
       "    </tr>\n",
       "    <tr>\n",
       "      <th>2016-03-02</th>\n",
       "      <td>-1.872046</td>\n",
       "      <td>-2.721737</td>\n",
       "    </tr>\n",
       "    <tr>\n",
       "      <th>2016-03-03</th>\n",
       "      <td>-1.384570</td>\n",
       "      <td>-0.040887</td>\n",
       "    </tr>\n",
       "    <tr>\n",
       "      <th>2016-03-04</th>\n",
       "      <td>-2.212431</td>\n",
       "      <td>-1.146514</td>\n",
       "    </tr>\n",
       "    <tr>\n",
       "      <th>2016-03-05</th>\n",
       "      <td>-1.066521</td>\n",
       "      <td>-0.996664</td>\n",
       "    </tr>\n",
       "    <tr>\n",
       "      <th>2016-03-06</th>\n",
       "      <td>-0.835300</td>\n",
       "      <td>-1.633520</td>\n",
       "    </tr>\n",
       "  </tbody>\n",
       "</table>\n",
       "</div>"
      ],
      "text/plain": [
       "                   B         C\n",
       "2016-03-01 -0.705075 -0.069273\n",
       "2016-03-02 -1.872046 -2.721737\n",
       "2016-03-03 -1.384570 -0.040887\n",
       "2016-03-04 -2.212431 -1.146514\n",
       "2016-03-05 -1.066521 -0.996664\n",
       "2016-03-06 -0.835300 -1.633520"
      ]
     },
     "execution_count": 204,
     "metadata": {},
     "output_type": "execute_result"
    }
   ],
   "source": [
    "df2 = df.loc[:, ['B', 'C']].copy()\n",
    "df2[df2 > 0] = -df2\n",
    "df2"
   ]
  },
  {
   "cell_type": "code",
   "execution_count": null,
   "metadata": {
    "collapsed": true
   },
   "outputs": [],
   "source": []
  }
 ],
 "metadata": {
  "kernelspec": {
   "display_name": "Python 2",
   "language": "python",
   "name": "python2"
  },
  "language_info": {
   "codemirror_mode": {
    "name": "ipython",
    "version": 2
   },
   "file_extension": ".py",
   "mimetype": "text/x-python",
   "name": "python",
   "nbconvert_exporter": "python",
   "pygments_lexer": "ipython2",
   "version": "2.7.10"
  }
 },
 "nbformat": 4,
 "nbformat_minor": 0
}
