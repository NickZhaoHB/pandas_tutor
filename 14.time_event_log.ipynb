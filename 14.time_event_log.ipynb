{
 "cells": [
  {
   "cell_type": "markdown",
   "metadata": {},
   "source": [
    "## 时间事件日志\n",
    "\n",
    "个人时间统计工具。要点：\n",
    "\n",
    "* 使用 dida365.com 来作为 GTD 工具\n",
    "* 使用特殊格式记录事件类别和花费的时间，如： “*[探索发现] 体验 iMac 开发环境 [3h]*”\n",
    "* 导出数据\n",
    "* 分析数据"
   ]
  },
  {
   "cell_type": "markdown",
   "metadata": {},
   "source": [
    "### 读取数据\n",
    "\n",
    "分析并读取数据"
   ]
  },
  {
   "cell_type": "code",
   "execution_count": 1,
   "metadata": {
    "collapsed": true
   },
   "outputs": [],
   "source": [
    "%matplotlib inline\n",
    "import pandas as pd\n",
    "import matplotlib.pyplot as plt"
   ]
  },
  {
   "cell_type": "code",
   "execution_count": 2,
   "metadata": {
    "collapsed": true
   },
   "outputs": [],
   "source": [
    "from matplotlib.font_manager import FontManager\n",
    "import subprocess    \n",
    "\n",
    "def get_support_chinese_font():\n",
    "    fm = FontManager()\n",
    "    mat_fonts = set(f.name for f in fm.ttflist)\n",
    "\n",
    "    output = subprocess.check_output('fc-list :lang=zh -f \"%{family}\\n\"', shell=True)\n",
    "    print '*' * 10, '系统可用的中文字体', '*' * 10\n",
    "    print output\n",
    "    zh_fonts = set(f.split(',', 1)[0] for f in output.split('\\n'))\n",
    "    available = mat_fonts & zh_fonts\n",
    "\n",
    "    print '*' * 10, '可用的中文字体', '*' * 10\n",
    "    for f in available:\n",
    "        print f\n",
    "    return available"
   ]
  },
  {
   "cell_type": "code",
   "execution_count": 3,
   "metadata": {
    "collapsed": true
   },
   "outputs": [],
   "source": [
    "from matplotlib.pylab import mpl\n",
    "\n",
    "mpl.rcParams['font.sans-serif'] = ['Arial Unicode MS'] # 指定默认字体\n",
    "mpl.rcParams['axes.unicode_minus'] = False # 解决保存图像是负号'-'显示为方块的问题"
   ]
  },
  {
   "cell_type": "code",
   "execution_count": 4,
   "metadata": {
    "collapsed": false
   },
   "outputs": [
    {
     "data": {
      "text/html": [
       "<div>\n",
       "<table border=\"1\" class=\"dataframe\">\n",
       "  <thead>\n",
       "    <tr style=\"text-align: right;\">\n",
       "      <th></th>\n",
       "      <th>List Name</th>\n",
       "      <th>Title</th>\n",
       "      <th>Content</th>\n",
       "      <th>Is Checklist</th>\n",
       "      <th>Reminder</th>\n",
       "      <th>Repeat</th>\n",
       "      <th>Priority</th>\n",
       "      <th>Status</th>\n",
       "      <th>Completed Time</th>\n",
       "      <th>Order</th>\n",
       "      <th>Timezone</th>\n",
       "      <th>Is All Day</th>\n",
       "    </tr>\n",
       "    <tr>\n",
       "      <th>Due Date</th>\n",
       "      <th></th>\n",
       "      <th></th>\n",
       "      <th></th>\n",
       "      <th></th>\n",
       "      <th></th>\n",
       "      <th></th>\n",
       "      <th></th>\n",
       "      <th></th>\n",
       "      <th></th>\n",
       "      <th></th>\n",
       "      <th></th>\n",
       "      <th></th>\n",
       "    </tr>\n",
       "  </thead>\n",
       "  <tbody>\n",
       "    <tr>\n",
       "      <th>2016-05-24</th>\n",
       "      <td>自我成长</td>\n",
       "      <td>[编程] javascript exercism [1h]</td>\n",
       "      <td>NaN</td>\n",
       "      <td>N</td>\n",
       "      <td>NaN</td>\n",
       "      <td>NaN</td>\n",
       "      <td>0</td>\n",
       "      <td>2</td>\n",
       "      <td>2016-05-25T14:15:10+0000</td>\n",
       "      <td>-235295488344064</td>\n",
       "      <td>Asia/Shanghai</td>\n",
       "      <td>True</td>\n",
       "    </tr>\n",
       "    <tr>\n",
       "      <th>2016-05-23</th>\n",
       "      <td>自我成长</td>\n",
       "      <td>[编程] javascript exercism [0.5h]</td>\n",
       "      <td>NaN</td>\n",
       "      <td>N</td>\n",
       "      <td>NaN</td>\n",
       "      <td>NaN</td>\n",
       "      <td>0</td>\n",
       "      <td>2</td>\n",
       "      <td>2016-05-24T15:59:08+0000</td>\n",
       "      <td>-234195976716288</td>\n",
       "      <td>Asia/Shanghai</td>\n",
       "      <td>True</td>\n",
       "    </tr>\n",
       "    <tr>\n",
       "      <th>2016-05-23</th>\n",
       "      <td>自我成长</td>\n",
       "      <td>[编程] clojure ring request [2h]</td>\n",
       "      <td>阅读 ring.util.request 源码\\r</td>\n",
       "      <td>N</td>\n",
       "      <td>NaN</td>\n",
       "      <td>NaN</td>\n",
       "      <td>0</td>\n",
       "      <td>2</td>\n",
       "      <td>2016-05-24T15:58:56+0000</td>\n",
       "      <td>-233096465088512</td>\n",
       "      <td>Asia/Shanghai</td>\n",
       "      <td>True</td>\n",
       "    </tr>\n",
       "    <tr>\n",
       "      <th>2016-05-22</th>\n",
       "      <td>自我成长</td>\n",
       "      <td>[编程] clojure ring 入门 [30m]</td>\n",
       "      <td>NaN</td>\n",
       "      <td>N</td>\n",
       "      <td>NaN</td>\n",
       "      <td>NaN</td>\n",
       "      <td>0</td>\n",
       "      <td>2</td>\n",
       "      <td>2016-05-23T15:03:24+0000</td>\n",
       "      <td>-231996953460736</td>\n",
       "      <td>Asia/Shanghai</td>\n",
       "      <td>True</td>\n",
       "    </tr>\n",
       "    <tr>\n",
       "      <th>2016-05-22</th>\n",
       "      <td>自我成长</td>\n",
       "      <td>[探索发现] 体验 iMac 开发环境 [3h]</td>\n",
       "      <td>iMac 的屏幕体验很棒，但使用非SSD硬盘速度上和mpb想着非常多。\\r</td>\n",
       "      <td>N</td>\n",
       "      <td>NaN</td>\n",
       "      <td>NaN</td>\n",
       "      <td>0</td>\n",
       "      <td>2</td>\n",
       "      <td>2016-05-23T14:33:35+0000</td>\n",
       "      <td>-230897441832960</td>\n",
       "      <td>Asia/Shanghai</td>\n",
       "      <td>True</td>\n",
       "    </tr>\n",
       "  </tbody>\n",
       "</table>\n",
       "</div>"
      ],
      "text/plain": [
       "           List Name                            Title  \\\n",
       "Due Date                                                \n",
       "2016-05-24      自我成长    [编程] javascript exercism [1h]   \n",
       "2016-05-23      自我成长  [编程] javascript exercism [0.5h]   \n",
       "2016-05-23      自我成长   [编程] clojure ring request [2h]   \n",
       "2016-05-22      自我成长       [编程] clojure ring 入门 [30m]   \n",
       "2016-05-22      自我成长         [探索发现] 体验 iMac 开发环境 [3h]   \n",
       "\n",
       "                                          Content Is Checklist  Reminder  \\\n",
       "Due Date                                                                   \n",
       "2016-05-24                                    NaN            N       NaN   \n",
       "2016-05-23                                    NaN            N       NaN   \n",
       "2016-05-23              阅读 ring.util.request 源码\\r            N       NaN   \n",
       "2016-05-22                                    NaN            N       NaN   \n",
       "2016-05-22  iMac 的屏幕体验很棒，但使用非SSD硬盘速度上和mpb想着非常多。\\r            N       NaN   \n",
       "\n",
       "            Repeat  Priority  Status            Completed Time  \\\n",
       "Due Date                                                         \n",
       "2016-05-24     NaN         0       2  2016-05-25T14:15:10+0000   \n",
       "2016-05-23     NaN         0       2  2016-05-24T15:59:08+0000   \n",
       "2016-05-23     NaN         0       2  2016-05-24T15:58:56+0000   \n",
       "2016-05-22     NaN         0       2  2016-05-23T15:03:24+0000   \n",
       "2016-05-22     NaN         0       2  2016-05-23T14:33:35+0000   \n",
       "\n",
       "                      Order       Timezone Is All Day  \n",
       "Due Date                                               \n",
       "2016-05-24 -235295488344064  Asia/Shanghai       True  \n",
       "2016-05-23 -234195976716288  Asia/Shanghai       True  \n",
       "2016-05-23 -233096465088512  Asia/Shanghai       True  \n",
       "2016-05-22 -231996953460736  Asia/Shanghai       True  \n",
       "2016-05-22 -230897441832960  Asia/Shanghai       True  "
      ]
     },
     "execution_count": 4,
     "metadata": {},
     "output_type": "execute_result"
    }
   ],
   "source": [
    "def _date_parser(dstr):\n",
    "    return pd.Timestamp(dstr).date()\n",
    "\n",
    "data = pd.read_csv('data/dida365.csv', header=3, index_col='Due Date', parse_dates=True, date_parser=_date_parser)\n",
    "data.head()"
   ]
  },
  {
   "cell_type": "markdown",
   "metadata": {},
   "source": [
    "### 数据清洗\n",
    "\n",
    "* 只关心己完成或己达成的事件，即 `status != 0` 的事件\n",
    "* 只需要 `List Name` 和 `Title` 字段"
   ]
  },
  {
   "cell_type": "code",
   "execution_count": 5,
   "metadata": {
    "collapsed": false
   },
   "outputs": [
    {
     "data": {
      "text/html": [
       "<div>\n",
       "<table border=\"1\" class=\"dataframe\">\n",
       "  <thead>\n",
       "    <tr style=\"text-align: right;\">\n",
       "      <th></th>\n",
       "      <th>List Name</th>\n",
       "      <th>Title</th>\n",
       "    </tr>\n",
       "    <tr>\n",
       "      <th>Due Date</th>\n",
       "      <th></th>\n",
       "      <th></th>\n",
       "    </tr>\n",
       "  </thead>\n",
       "  <tbody>\n",
       "    <tr>\n",
       "      <th>2016-05-24</th>\n",
       "      <td>自我成长</td>\n",
       "      <td>[编程] javascript exercism [1h]</td>\n",
       "    </tr>\n",
       "    <tr>\n",
       "      <th>2016-05-23</th>\n",
       "      <td>自我成长</td>\n",
       "      <td>[编程] javascript exercism [0.5h]</td>\n",
       "    </tr>\n",
       "    <tr>\n",
       "      <th>2016-05-23</th>\n",
       "      <td>自我成长</td>\n",
       "      <td>[编程] clojure ring request [2h]</td>\n",
       "    </tr>\n",
       "    <tr>\n",
       "      <th>2016-05-22</th>\n",
       "      <td>自我成长</td>\n",
       "      <td>[编程] clojure ring 入门 [30m]</td>\n",
       "    </tr>\n",
       "    <tr>\n",
       "      <th>2016-05-22</th>\n",
       "      <td>自我成长</td>\n",
       "      <td>[探索发现] 体验 iMac 开发环境 [3h]</td>\n",
       "    </tr>\n",
       "  </tbody>\n",
       "</table>\n",
       "</div>"
      ],
      "text/plain": [
       "           List Name                            Title\n",
       "Due Date                                             \n",
       "2016-05-24      自我成长    [编程] javascript exercism [1h]\n",
       "2016-05-23      自我成长  [编程] javascript exercism [0.5h]\n",
       "2016-05-23      自我成长   [编程] clojure ring request [2h]\n",
       "2016-05-22      自我成长       [编程] clojure ring 入门 [30m]\n",
       "2016-05-22      自我成长         [探索发现] 体验 iMac 开发环境 [3h]"
      ]
     },
     "execution_count": 5,
     "metadata": {},
     "output_type": "execute_result"
    }
   ],
   "source": [
    "df = data[data['Status'] != 0].loc[:, ['List Name', 'Title']]\n",
    "df.head()"
   ]
  },
  {
   "cell_type": "markdown",
   "metadata": {},
   "source": [
    "### 数据解析\n",
    "\n",
    "解析事件类别和和花费的时间"
   ]
  },
  {
   "cell_type": "code",
   "execution_count": 6,
   "metadata": {
    "collapsed": false
   },
   "outputs": [
    {
     "data": {
      "text/html": [
       "<div>\n",
       "<table border=\"1\" class=\"dataframe\">\n",
       "  <thead>\n",
       "    <tr style=\"text-align: right;\">\n",
       "      <th></th>\n",
       "      <th>List Name</th>\n",
       "      <th>Title</th>\n",
       "      <th>Tag</th>\n",
       "      <th>Duration</th>\n",
       "    </tr>\n",
       "    <tr>\n",
       "      <th>Due Date</th>\n",
       "      <th></th>\n",
       "      <th></th>\n",
       "      <th></th>\n",
       "      <th></th>\n",
       "    </tr>\n",
       "  </thead>\n",
       "  <tbody>\n",
       "    <tr>\n",
       "      <th>2016-05-24</th>\n",
       "      <td>自我成长</td>\n",
       "      <td>[编程] javascript exercism [1h]</td>\n",
       "      <td>编程</td>\n",
       "      <td>60</td>\n",
       "    </tr>\n",
       "    <tr>\n",
       "      <th>2016-05-23</th>\n",
       "      <td>自我成长</td>\n",
       "      <td>[编程] javascript exercism [0.5h]</td>\n",
       "      <td>编程</td>\n",
       "      <td>30</td>\n",
       "    </tr>\n",
       "    <tr>\n",
       "      <th>2016-05-23</th>\n",
       "      <td>自我成长</td>\n",
       "      <td>[编程] clojure ring request [2h]</td>\n",
       "      <td>编程</td>\n",
       "      <td>120</td>\n",
       "    </tr>\n",
       "    <tr>\n",
       "      <th>2016-05-22</th>\n",
       "      <td>自我成长</td>\n",
       "      <td>[编程] clojure ring 入门 [30m]</td>\n",
       "      <td>编程</td>\n",
       "      <td>30</td>\n",
       "    </tr>\n",
       "    <tr>\n",
       "      <th>2016-05-22</th>\n",
       "      <td>自我成长</td>\n",
       "      <td>[探索发现] 体验 iMac 开发环境 [3h]</td>\n",
       "      <td>探索发现</td>\n",
       "      <td>180</td>\n",
       "    </tr>\n",
       "  </tbody>\n",
       "</table>\n",
       "</div>"
      ],
      "text/plain": [
       "           List Name                            Title   Tag  Duration\n",
       "Due Date                                                             \n",
       "2016-05-24      自我成长    [编程] javascript exercism [1h]    编程        60\n",
       "2016-05-23      自我成长  [编程] javascript exercism [0.5h]    编程        30\n",
       "2016-05-23      自我成长   [编程] clojure ring request [2h]    编程       120\n",
       "2016-05-22      自我成长       [编程] clojure ring 入门 [30m]    编程        30\n",
       "2016-05-22      自我成长         [探索发现] 体验 iMac 开发环境 [3h]  探索发现       180"
      ]
     },
     "execution_count": 6,
     "metadata": {},
     "output_type": "execute_result"
    }
   ],
   "source": [
    "import re\n",
    "\n",
    "def parse_tag(value):\n",
    "    m = re.match(r'^(\\[(.*?)\\])?.*$', value)\n",
    "    if m and m.group(2):\n",
    "        return m.group(2)\n",
    "    else:\n",
    "        return '其他'\n",
    "\n",
    "def parse_duration(value):\n",
    "    m = re.match(r'^.+?\\[(.*?)([hm]?)\\]$', value)\n",
    "    if m:\n",
    "        dur = 0\n",
    "        try:\n",
    "            dur = float(m.group(1))\n",
    "        except e:\n",
    "            print('parse duration error: \\n%s' % e)\n",
    "        if m.group(2) != 'm':\n",
    "            dur = dur * 60\n",
    "        return int(dur)\n",
    "    else:\n",
    "        return 0\n",
    "    \n",
    "titles = df['Title']\n",
    "df['Tag'] = titles.map(parse_tag)\n",
    "df['Duration'] = titles.map(parse_duration)\n",
    "df.head()"
   ]
  },
  {
   "cell_type": "code",
   "execution_count": 7,
   "metadata": {
    "collapsed": false
   },
   "outputs": [
    {
     "data": {
      "text/plain": [
       "List Name    232\n",
       "Title        232\n",
       "Tag          232\n",
       "Duration     232\n",
       "dtype: int64"
      ]
     },
     "execution_count": 7,
     "metadata": {},
     "output_type": "execute_result"
    }
   ],
   "source": [
    "df.count()"
   ]
  },
  {
   "cell_type": "code",
   "execution_count": 8,
   "metadata": {
    "collapsed": false
   },
   "outputs": [
    {
     "data": {
      "text/plain": [
       "datetime.date(2015, 12, 2)"
      ]
     },
     "execution_count": 8,
     "metadata": {},
     "output_type": "execute_result"
    }
   ],
   "source": [
    "start_date = df.index.min().date()\n",
    "start_date"
   ]
  },
  {
   "cell_type": "code",
   "execution_count": 9,
   "metadata": {
    "collapsed": false
   },
   "outputs": [
    {
     "data": {
      "text/plain": [
       "datetime.date(2016, 5, 24)"
      ]
     },
     "execution_count": 9,
     "metadata": {},
     "output_type": "execute_result"
    }
   ],
   "source": [
    "end_date = df.index.max().date()\n",
    "end_date"
   ]
  },
  {
   "cell_type": "markdown",
   "metadata": {},
   "source": [
    "### 数据分析\n",
    "\n",
    "#### 时间总览\n",
    "\n",
    "平均每天投资在自己身上的时间是多少？-> *全部时间 / 总天数*"
   ]
  },
  {
   "cell_type": "code",
   "execution_count": 10,
   "metadata": {
    "collapsed": false
   },
   "outputs": [
    {
     "data": {
      "text/plain": [
       "datetime.timedelta(174)"
      ]
     },
     "execution_count": 10,
     "metadata": {},
     "output_type": "execute_result"
    }
   ],
   "source": [
    "end_date - start_date"
   ]
  },
  {
   "cell_type": "code",
   "execution_count": 11,
   "metadata": {
    "collapsed": false
   },
   "outputs": [
    {
     "data": {
      "text/plain": [
       "28932"
      ]
     },
     "execution_count": 11,
     "metadata": {},
     "output_type": "execute_result"
    }
   ],
   "source": [
    "df['Duration'].sum() "
   ]
  },
  {
   "cell_type": "code",
   "execution_count": 12,
   "metadata": {
    "collapsed": false
   },
   "outputs": [
    {
     "data": {
      "text/plain": [
       "166"
      ]
     },
     "execution_count": 12,
     "metadata": {},
     "output_type": "execute_result"
    }
   ],
   "source": [
    "df['Duration'].sum() / (end_date - start_date).days"
   ]
  },
  {
   "cell_type": "markdown",
   "metadata": {},
   "source": [
    "#### 精力分配"
   ]
  },
  {
   "cell_type": "code",
   "execution_count": 13,
   "metadata": {
    "collapsed": false
   },
   "outputs": [
    {
     "data": {
      "text/html": [
       "<div>\n",
       "<table border=\"1\" class=\"dataframe\">\n",
       "  <thead>\n",
       "    <tr style=\"text-align: right;\">\n",
       "      <th></th>\n",
       "      <th>Duration</th>\n",
       "    </tr>\n",
       "    <tr>\n",
       "      <th>Tag</th>\n",
       "      <th></th>\n",
       "    </tr>\n",
       "  </thead>\n",
       "  <tbody>\n",
       "    <tr>\n",
       "      <th>写作</th>\n",
       "      <td>2940</td>\n",
       "    </tr>\n",
       "    <tr>\n",
       "      <th>探索发现</th>\n",
       "      <td>3270</td>\n",
       "    </tr>\n",
       "    <tr>\n",
       "      <th>机器学习</th>\n",
       "      <td>2010</td>\n",
       "    </tr>\n",
       "    <tr>\n",
       "      <th>电影</th>\n",
       "      <td>3048</td>\n",
       "    </tr>\n",
       "    <tr>\n",
       "      <th>编程</th>\n",
       "      <td>14604</td>\n",
       "    </tr>\n",
       "    <tr>\n",
       "      <th>阅读</th>\n",
       "      <td>3060</td>\n",
       "    </tr>\n",
       "  </tbody>\n",
       "</table>\n",
       "</div>"
      ],
      "text/plain": [
       "      Duration\n",
       "Tag           \n",
       "写作        2940\n",
       "探索发现      3270\n",
       "机器学习      2010\n",
       "电影        3048\n",
       "编程       14604\n",
       "阅读        3060"
      ]
     },
     "execution_count": 13,
     "metadata": {},
     "output_type": "execute_result"
    }
   ],
   "source": [
    "tag_list = df.groupby(['Tag']).sum()\n",
    "tag_list"
   ]
  },
  {
   "cell_type": "code",
   "execution_count": 14,
   "metadata": {
    "collapsed": false
   },
   "outputs": [
    {
     "data": {
      "text/plain": [
       "<matplotlib.axes.AxesSubplot at 0x1049ec7d0>"
      ]
     },
     "execution_count": 14,
     "metadata": {},
     "output_type": "execute_result"
    },
    {
     "data": {
      "image/png": "[encoded data removed]",
      "text/plain": [
       "<matplotlib.figure.Figure at 0x1026ffdd0>"
      ]
     },
     "metadata": {},
     "output_type": "display_data"
    }
   ],
   "source": [
    "tag_list['Duration'].plot(kind='pie', figsize=(8, 8), fontsize=16, autopct='%1.2f%%')"
   ]
  },
  {
   "cell_type": "markdown",
   "metadata": {},
   "source": [
    "#### 专注力\n",
    "\n",
    "长时间学习某项技能的能力"
   ]
  },
  {
   "cell_type": "code",
   "execution_count": 15,
   "metadata": {
    "collapsed": false
   },
   "outputs": [
    {
     "data": {
      "text/html": [
       "<div>\n",
       "<table border=\"1\" class=\"dataframe\">\n",
       "  <thead>\n",
       "    <tr style=\"text-align: right;\">\n",
       "      <th></th>\n",
       "      <th>List Name</th>\n",
       "      <th>Title</th>\n",
       "      <th>Tag</th>\n",
       "      <th>Duration</th>\n",
       "    </tr>\n",
       "    <tr>\n",
       "      <th>Due Date</th>\n",
       "      <th></th>\n",
       "      <th></th>\n",
       "      <th></th>\n",
       "      <th></th>\n",
       "    </tr>\n",
       "  </thead>\n",
       "  <tbody>\n",
       "    <tr>\n",
       "      <th>2016-05-24</th>\n",
       "      <td>自我成长</td>\n",
       "      <td>[编程] javascript exercism [1h]</td>\n",
       "      <td>编程</td>\n",
       "      <td>60</td>\n",
       "    </tr>\n",
       "    <tr>\n",
       "      <th>2016-05-23</th>\n",
       "      <td>自我成长</td>\n",
       "      <td>[编程] javascript exercism [0.5h]</td>\n",
       "      <td>编程</td>\n",
       "      <td>30</td>\n",
       "    </tr>\n",
       "    <tr>\n",
       "      <th>2016-05-23</th>\n",
       "      <td>自我成长</td>\n",
       "      <td>[编程] clojure ring request [2h]</td>\n",
       "      <td>编程</td>\n",
       "      <td>120</td>\n",
       "    </tr>\n",
       "    <tr>\n",
       "      <th>2016-05-22</th>\n",
       "      <td>自我成长</td>\n",
       "      <td>[编程] clojure ring 入门 [30m]</td>\n",
       "      <td>编程</td>\n",
       "      <td>30</td>\n",
       "    </tr>\n",
       "    <tr>\n",
       "      <th>2016-05-22</th>\n",
       "      <td>自我成长</td>\n",
       "      <td>[编程] javascript exercism [0.5h]</td>\n",
       "      <td>编程</td>\n",
       "      <td>30</td>\n",
       "    </tr>\n",
       "  </tbody>\n",
       "</table>\n",
       "</div>"
      ],
      "text/plain": [
       "           List Name                            Title Tag  Duration\n",
       "Due Date                                                           \n",
       "2016-05-24      自我成长    [编程] javascript exercism [1h]  编程        60\n",
       "2016-05-23      自我成长  [编程] javascript exercism [0.5h]  编程        30\n",
       "2016-05-23      自我成长   [编程] clojure ring request [2h]  编程       120\n",
       "2016-05-22      自我成长       [编程] clojure ring 入门 [30m]  编程        30\n",
       "2016-05-22      自我成长  [编程] javascript exercism [0.5h]  编程        30"
      ]
     },
     "execution_count": 15,
     "metadata": {},
     "output_type": "execute_result"
    }
   ],
   "source": [
    "programming = df[df['Tag'] == '编程']\n",
    "programming.head()"
   ]
  },
  {
   "cell_type": "code",
   "execution_count": 16,
   "metadata": {
    "collapsed": false
   },
   "outputs": [
    {
     "data": {
      "text/plain": [
       "<matplotlib.axes.AxesSubplot at 0x104a42f50>"
      ]
     },
     "execution_count": 16,
     "metadata": {},
     "output_type": "execute_result"
    },
    {
     "data": {
      "image/png": "[encoded data removed]",
      "text/plain": [
       "<matplotlib.figure.Figure at 0x104c12d50>"
      ]
     },
     "metadata": {},
     "output_type": "display_data"
    }
   ],
   "source": [
    "programming.resample('m', how='sum').to_period(freq='m').plot(kind='bar', figsize=(8, 8), fontsize=16)"
   ]
  },
  {
   "cell_type": "code",
   "execution_count": 17,
   "metadata": {
    "collapsed": false
   },
   "outputs": [
    {
     "data": {
      "text/html": [
       "<div>\n",
       "<table border=\"1\" class=\"dataframe\">\n",
       "  <thead>\n",
       "    <tr style=\"text-align: right;\">\n",
       "      <th></th>\n",
       "      <th></th>\n",
       "      <th>Duration</th>\n",
       "    </tr>\n",
       "    <tr>\n",
       "      <th>Tag</th>\n",
       "      <th>Title</th>\n",
       "      <th></th>\n",
       "    </tr>\n",
       "  </thead>\n",
       "  <tbody>\n",
       "    <tr>\n",
       "      <th rowspan=\"23\" valign=\"top\">写作</th>\n",
       "      <th>[写作] scikit-learn 机器学习入门 [2h]</th>\n",
       "      <td>120</td>\n",
       "    </tr>\n",
       "    <tr>\n",
       "      <th>[写作] scikit-learn 机器学习实例入门教程 [2h]</th>\n",
       "      <td>120</td>\n",
       "    </tr>\n",
       "    <tr>\n",
       "      <th>[写作] stanford cs224d lecture 2 笔记 [3h]</th>\n",
       "      <td>180</td>\n",
       "    </tr>\n",
       "    <tr>\n",
       "      <th>[写作] 《K 均值算法》[1h]</th>\n",
       "      <td>60</td>\n",
       "    </tr>\n",
       "    <tr>\n",
       "      <th>[写作] 《scikit-learn 机器学习入门》 目录编写 [2h]</th>\n",
       "      <td>120</td>\n",
       "    </tr>\n",
       "    <tr>\n",
       "      <th>[写作] 《主成份分析算法 PCA》 [1.5h]</th>\n",
       "      <td>90</td>\n",
       "    </tr>\n",
       "    <tr>\n",
       "      <th>[写作] 《使用 kitabu 生成高颜值电子书》 [1h]</th>\n",
       "      <td>60</td>\n",
       "    </tr>\n",
       "    <tr>\n",
       "      <th>[写作] 《十二公民》观后感 [1h]</th>\n",
       "      <td>60</td>\n",
       "    </tr>\n",
       "    <tr>\n",
       "      <th>[写作] 《支持向量机核函数》[4h]</th>\n",
       "      <td>240</td>\n",
       "    </tr>\n",
       "    <tr>\n",
       "      <th>[写作] 写年终总结 [2h]</th>\n",
       "      <td>120</td>\n",
       "    </tr>\n",
       "    <tr>\n",
       "      <th>[写作] 博客《文艺地解读贝叶斯定理》[2h]</th>\n",
       "      <td>120</td>\n",
       "    </tr>\n",
       "    <tr>\n",
       "      <th>[写作] 博客《时间事件日志》[1h]</th>\n",
       "      <td>60</td>\n",
       "    </tr>\n",
       "    <tr>\n",
       "      <th>[写作] 博客《词典的存储和搜索》[3h]</th>\n",
       "      <td>180</td>\n",
       "    </tr>\n",
       "    <tr>\n",
       "      <th>[写作] 博客《跑者蓝调》[3h]</th>\n",
       "      <td>180</td>\n",
       "    </tr>\n",
       "    <tr>\n",
       "      <th>[写作] 培训文档 《使用 sublime + plantuml 画图》[4h]</th>\n",
       "      <td>240</td>\n",
       "    </tr>\n",
       "    <tr>\n",
       "      <th>[写作] 基于协同过滤算法的推荐系统 [1.5h]</th>\n",
       "      <td>90</td>\n",
       "    </tr>\n",
       "    <tr>\n",
       "      <th>[写作] 如何写一篇高质量的技术博客 [1.5h]</th>\n",
       "      <td>90</td>\n",
       "    </tr>\n",
       "    <tr>\n",
       "      <th>[写作] 独立思考能力草稿 [2h]</th>\n",
       "      <td>120</td>\n",
       "    </tr>\n",
       "    <tr>\n",
       "      <th>[写作] 知乎答题 [1h]</th>\n",
       "      <td>60</td>\n",
       "    </tr>\n",
       "    <tr>\n",
       "      <th>[写作] mlsl matplotlib 简介 [2.5h]</th>\n",
       "      <td>150</td>\n",
       "    </tr>\n",
       "    <tr>\n",
       "      <th>[写作] mlsl matplotlib 简介 [2h]</th>\n",
       "      <td>120</td>\n",
       "    </tr>\n",
       "    <tr>\n",
       "      <th>[写作] mlsl numpy 简介 [3h]</th>\n",
       "      <td>180</td>\n",
       "    </tr>\n",
       "    <tr>\n",
       "      <th>[写作]《支持向量机 SVM 算法》[3h]</th>\n",
       "      <td>180</td>\n",
       "    </tr>\n",
       "    <tr>\n",
       "      <th rowspan=\"7\" valign=\"top\">探索发现</th>\n",
       "      <th>[探索发现] GenyMotion win7 安装 [1h]</th>\n",
       "      <td>60</td>\n",
       "    </tr>\n",
       "    <tr>\n",
       "      <th>[探索发现] kitabu 生成电子书 [4h]</th>\n",
       "      <td>240</td>\n",
       "    </tr>\n",
       "    <tr>\n",
       "      <th>[探索发现] kitabu 生成的电子书中 LaTeX 公式的显示问题 [2h]</th>\n",
       "      <td>120</td>\n",
       "    </tr>\n",
       "    <tr>\n",
       "      <th>[探索发现] mac os dotfiles [3h]</th>\n",
       "      <td>180</td>\n",
       "    </tr>\n",
       "    <tr>\n",
       "      <th>[探索发现] vim 学习 [3h]</th>\n",
       "      <td>180</td>\n",
       "    </tr>\n",
       "    <tr>\n",
       "      <th>[探索发现] vim 查找替换及正则表达式 [1h]</th>\n",
       "      <td>60</td>\n",
       "    </tr>\n",
       "    <tr>\n",
       "      <th>[探索发现] 体验 iMac 开发环境 [3h]</th>\n",
       "      <td>180</td>\n",
       "    </tr>\n",
       "    <tr>\n",
       "      <th>...</th>\n",
       "      <th>...</th>\n",
       "      <td>...</td>\n",
       "    </tr>\n",
       "    <tr>\n",
       "      <th rowspan=\"6\" valign=\"top\">编程</th>\n",
       "      <th>[编程] 研究 python 测试框架 [1h]</th>\n",
       "      <td>60</td>\n",
       "    </tr>\n",
       "    <tr>\n",
       "      <th>[编程] 课程小结备课 [30m]</th>\n",
       "      <td>30</td>\n",
       "    </tr>\n",
       "    <tr>\n",
       "      <th>[编程] 课程小结视频剪辑 [1h]</th>\n",
       "      <td>60</td>\n",
       "    </tr>\n",
       "    <tr>\n",
       "      <th>[编程] 阅读 blinker 开源代码实现 [2h]</th>\n",
       "      <td>120</td>\n",
       "    </tr>\n",
       "    <tr>\n",
       "      <th>[编程] ipython 介绍视频录制 [30m]</th>\n",
       "      <td>30</td>\n",
       "    </tr>\n",
       "    <tr>\n",
       "      <th>[编程] 豆瓣登录修改签名视频录制 [4h]</th>\n",
       "      <td>240</td>\n",
       "    </tr>\n",
       "    <tr>\n",
       "      <th rowspan=\"24\" valign=\"top\">阅读</th>\n",
       "      <th>[阅读] 《Beyond Feelings》 [1h]</th>\n",
       "      <td>60</td>\n",
       "    </tr>\n",
       "    <tr>\n",
       "      <th>[阅读] 《Beyond Feelings》 [30m]</th>\n",
       "      <td>30</td>\n",
       "    </tr>\n",
       "    <tr>\n",
       "      <th>[阅读] 《Beyond Feelings》15页 [30m]</th>\n",
       "      <td>30</td>\n",
       "    </tr>\n",
       "    <tr>\n",
       "      <th>[阅读] 《Beyond Feelings》15－26页 [30m]</th>\n",
       "      <td>30</td>\n",
       "    </tr>\n",
       "    <tr>\n",
       "      <th>[阅读] 《把时间当作朋友》[1h]</th>\n",
       "      <td>60</td>\n",
       "    </tr>\n",
       "    <tr>\n",
       "      <th>[阅读] 《把时间当作朋友》[4h]</th>\n",
       "      <td>240</td>\n",
       "    </tr>\n",
       "    <tr>\n",
       "      <th>[阅读] 《时间的朋友》 [1h]</th>\n",
       "      <td>60</td>\n",
       "    </tr>\n",
       "    <tr>\n",
       "      <th>[阅读] 《李笑来博客》 [2h]</th>\n",
       "      <td>120</td>\n",
       "    </tr>\n",
       "    <tr>\n",
       "      <th>[阅读] 《松本行弘的程序世界》 [1h]</th>\n",
       "      <td>60</td>\n",
       "    </tr>\n",
       "    <tr>\n",
       "      <th>[阅读] 《松本行弘的程序世界》 [2h]</th>\n",
       "      <td>120</td>\n",
       "    </tr>\n",
       "    <tr>\n",
       "      <th>[阅读] 《自我教练》 [2h]</th>\n",
       "      <td>120</td>\n",
       "    </tr>\n",
       "    <tr>\n",
       "      <th>[阅读] 《自我教练》 [3h]</th>\n",
       "      <td>180</td>\n",
       "    </tr>\n",
       "    <tr>\n",
       "      <th>[阅读] 《讲量化交易》 [1h]</th>\n",
       "      <td>60</td>\n",
       "    </tr>\n",
       "    <tr>\n",
       "      <th>[阅读] 《高质量 python 程序的 91 个建议》[1h]</th>\n",
       "      <td>60</td>\n",
       "    </tr>\n",
       "    <tr>\n",
       "      <th>[阅读] 当我谈跑步时我在谈什么 [2h]</th>\n",
       "      <td>120</td>\n",
       "    </tr>\n",
       "    <tr>\n",
       "      <th>[阅读] 微信，知乎 [1h]</th>\n",
       "      <td>60</td>\n",
       "    </tr>\n",
       "    <tr>\n",
       "      <th>[阅读] 数学之美 1-26 [3h]</th>\n",
       "      <td>180</td>\n",
       "    </tr>\n",
       "    <tr>\n",
       "      <th>[阅读] 时间的朋友 [1h]</th>\n",
       "      <td>60</td>\n",
       "    </tr>\n",
       "    <tr>\n",
       "      <th>[阅读] 火星救援 [1h]</th>\n",
       "      <td>60</td>\n",
       "    </tr>\n",
       "    <tr>\n",
       "      <th>[阅读] 火星救援 [4h]</th>\n",
       "      <td>240</td>\n",
       "    </tr>\n",
       "    <tr>\n",
       "      <th>[阅读] 自我教练 [1h]</th>\n",
       "      <td>60</td>\n",
       "    </tr>\n",
       "    <tr>\n",
       "      <th>[阅读] 迷茫时代的明白人 [3h]</th>\n",
       "      <td>180</td>\n",
       "    </tr>\n",
       "    <tr>\n",
       "      <th>[阅读] 黑客与画家 [2h]</th>\n",
       "      <td>120</td>\n",
       "    </tr>\n",
       "    <tr>\n",
       "      <th>[阅读]《把时间当朋友》[3h]</th>\n",
       "      <td>180</td>\n",
       "    </tr>\n",
       "  </tbody>\n",
       "</table>\n",
       "<p>198 rows × 1 columns</p>\n",
       "</div>"
      ],
      "text/plain": [
       "                                               Duration\n",
       "Tag  Title                                             \n",
       "写作   [写作] scikit-learn 机器学习入门 [2h]                  120\n",
       "     [写作] scikit-learn 机器学习实例入门教程 [2h]              120\n",
       "     [写作] stanford cs224d lecture 2 笔记 [3h]         180\n",
       "     [写作] 《K 均值算法》[1h]                               60\n",
       "     [写作] 《scikit-learn 机器学习入门》 目录编写 [2h]           120\n",
       "     [写作] 《主成份分析算法 PCA》 [1.5h]                       90\n",
       "     [写作] 《使用 kitabu 生成高颜值电子书》 [1h]                  60\n",
       "     [写作] 《十二公民》观后感 [1h]                             60\n",
       "     [写作] 《支持向量机核函数》[4h]                            240\n",
       "     [写作] 写年终总结 [2h]                                120\n",
       "     [写作] 博客《文艺地解读贝叶斯定理》[2h]                        120\n",
       "     [写作] 博客《时间事件日志》[1h]                             60\n",
       "     [写作] 博客《词典的存储和搜索》[3h]                          180\n",
       "     [写作] 博客《跑者蓝调》[3h]                              180\n",
       "     [写作] 培训文档 《使用 sublime + plantuml 画图》[4h]       240\n",
       "     [写作] 基于协同过滤算法的推荐系统 [1.5h]                       90\n",
       "     [写作] 如何写一篇高质量的技术博客 [1.5h]                       90\n",
       "     [写作] 独立思考能力草稿 [2h]                             120\n",
       "     [写作] 知乎答题 [1h]                                  60\n",
       "     [写作] mlsl matplotlib 简介 [2.5h]                 150\n",
       "     [写作] mlsl matplotlib 简介 [2h]                   120\n",
       "     [写作] mlsl numpy 简介 [3h]                        180\n",
       "     [写作]《支持向量机 SVM 算法》[3h]                         180\n",
       "探索发现 [探索发现] GenyMotion win7 安装 [1h]                  60\n",
       "     [探索发现] kitabu 生成电子书 [4h]                       240\n",
       "     [探索发现] kitabu 生成的电子书中 LaTeX 公式的显示问题 [2h]       120\n",
       "     [探索发现] mac os dotfiles [3h]                    180\n",
       "     [探索发现] vim 学习 [3h]                             180\n",
       "     [探索发现] vim 查找替换及正则表达式 [1h]                      60\n",
       "     [探索发现] 体验 iMac 开发环境 [3h]                       180\n",
       "...                                                 ...\n",
       "编程   [编程] 研究 python 测试框架 [1h]                        60\n",
       "     [编程] 课程小结备课 [30m]                               30\n",
       "     [编程] 课程小结视频剪辑 [1h]                              60\n",
       "     [编程] 阅读 blinker 开源代码实现 [2h]                    120\n",
       "     [编程] ipython 介绍视频录制 [30m]                       30\n",
       "     [编程] 豆瓣登录修改签名视频录制 [4h]                         240\n",
       "阅读   [阅读] 《Beyond Feelings》 [1h]                     60\n",
       "     [阅读] 《Beyond Feelings》 [30m]                    30\n",
       "     [阅读] 《Beyond Feelings》15页 [30m]                 30\n",
       "     [阅读] 《Beyond Feelings》15－26页 [30m]              30\n",
       "     [阅读] 《把时间当作朋友》[1h]                              60\n",
       "     [阅读] 《把时间当作朋友》[4h]                             240\n",
       "     [阅读] 《时间的朋友》 [1h]                               60\n",
       "     [阅读] 《李笑来博客》 [2h]                              120\n",
       "     [阅读] 《松本行弘的程序世界》 [1h]                           60\n",
       "     [阅读] 《松本行弘的程序世界》 [2h]                          120\n",
       "     [阅读] 《自我教练》 [2h]                               120\n",
       "     [阅读] 《自我教练》 [3h]                               180\n",
       "     [阅读] 《讲量化交易》 [1h]                               60\n",
       "     [阅读] 《高质量 python 程序的 91 个建议》[1h]                60\n",
       "     [阅读] 当我谈跑步时我在谈什么 [2h]                          120\n",
       "     [阅读] 微信，知乎 [1h]                                 60\n",
       "     [阅读] 数学之美 1-26 [3h]                            180\n",
       "     [阅读] 时间的朋友 [1h]                                 60\n",
       "     [阅读] 火星救援 [1h]                                  60\n",
       "     [阅读] 火星救援 [4h]                                 240\n",
       "     [阅读] 自我教练 [1h]                                  60\n",
       "     [阅读] 迷茫时代的明白人 [3h]                             180\n",
       "     [阅读] 黑客与画家 [2h]                                120\n",
       "     [阅读]《把时间当朋友》[3h]                               180\n",
       "\n",
       "[198 rows x 1 columns]"
      ]
     },
     "execution_count": 17,
     "metadata": {},
     "output_type": "execute_result"
    }
   ],
   "source": [
    "df.pivot_table(index=['Tag', 'Title'])"
   ]
  },
  {
   "cell_type": "code",
   "execution_count": null,
   "metadata": {
    "collapsed": true
   },
   "outputs": [],
   "source": []
  }
 ],
 "metadata": {
  "kernelspec": {
   "display_name": "Python 2",
   "language": "python",
   "name": "python2"
  },
  "language_info": {
   "codemirror_mode": {
    "name": "ipython",
    "version": 2
   },
   "file_extension": ".py",
   "mimetype": "text/x-python",
   "name": "python",
   "nbconvert_exporter": "python",
   "pygments_lexer": "ipython2",
   "version": "2.7.10"
  }
 },
 "nbformat": 4,
 "nbformat_minor": 0
}
